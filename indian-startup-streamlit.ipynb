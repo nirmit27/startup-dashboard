{
 "cells": [
  {
   "cell_type": "code",
   "execution_count": 1,
   "id": "53d2bbb5",
   "metadata": {
    "_cell_guid": "b1076dfc-b9ad-4769-8c92-a6c4dae69d19",
    "_uuid": "8f2839f25d086af736a60e9eeb907d3b93b6e0e5",
    "cell_id": "8b3c2c274bbe4ccbbf26f73139be3ec7",
    "deepnote_app_coordinates": {
     "h": 5,
     "w": 12,
     "x": 0,
     "y": 0
    },
    "deepnote_cell_type": "code",
    "deepnote_to_be_reexecuted": false,
    "execution": {
     "iopub.execute_input": "2023-11-05T08:03:06.124426Z",
     "iopub.status.busy": "2023-11-05T08:03:06.123277Z",
     "iopub.status.idle": "2023-11-05T08:03:06.504017Z",
     "shell.execute_reply": "2023-11-05T08:03:06.502930Z"
    },
    "execution_millis": 9,
    "execution_start": 1699170976917,
    "papermill": {
     "duration": 0.39248,
     "end_time": "2023-11-05T08:03:06.506445",
     "exception": false,
     "start_time": "2023-11-05T08:03:06.113965",
     "status": "completed"
    },
    "source_hash": "7903a10d",
    "tags": []
   },
   "outputs": [],
   "source": [
    "import numpy as np\n",
    "import pandas as pd\n",
    "import matplotlib.pyplot as plt\n",
    "import plotly.express as px"
   ]
  },
  {
   "cell_type": "markdown",
   "id": "5208ee84",
   "metadata": {
    "cell_id": "266270de72f545a1afeca767b6563d4e",
    "deepnote_app_coordinates": {
     "h": 5,
     "w": 12,
     "x": 0,
     "y": 0
    },
    "deepnote_cell_type": "markdown",
    "papermill": {
     "duration": 0.007537,
     "end_time": "2023-11-05T08:03:06.523697",
     "exception": false,
     "start_time": "2023-11-05T08:03:06.516160",
     "status": "completed"
    },
    "tags": []
   },
   "source": [
    "### ***Importing the Dataset***"
   ]
  },
  {
   "cell_type": "code",
   "execution_count": 2,
   "id": "c907776c",
   "metadata": {
    "cell_id": "ec88f4e4667c4c4989091c30a6ae22b3",
    "deepnote_app_coordinates": {
     "h": 5,
     "w": 12,
     "x": 0,
     "y": 0
    },
    "deepnote_cell_type": "code",
    "deepnote_to_be_reexecuted": false,
    "execution": {
     "iopub.execute_input": "2023-11-05T08:03:06.540284Z",
     "iopub.status.busy": "2023-11-05T08:03:06.539380Z",
     "iopub.status.idle": "2023-11-05T08:03:06.595217Z",
     "shell.execute_reply": "2023-11-05T08:03:06.594195Z"
    },
    "execution_millis": 530,
    "execution_start": 1699170981238,
    "papermill": {
     "duration": 0.06692,
     "end_time": "2023-11-05T08:03:06.597823",
     "exception": false,
     "start_time": "2023-11-05T08:03:06.530903",
     "status": "completed"
    },
    "source_hash": "37fdc835",
    "tags": []
   },
   "outputs": [
    {
     "data": {
      "text/html": [
       "<div>\n",
       "<style scoped>\n",
       "    .dataframe tbody tr th:only-of-type {\n",
       "        vertical-align: middle;\n",
       "    }\n",
       "\n",
       "    .dataframe tbody tr th {\n",
       "        vertical-align: top;\n",
       "    }\n",
       "\n",
       "    .dataframe thead th {\n",
       "        text-align: right;\n",
       "    }\n",
       "</style>\n",
       "<table border=\"1\" class=\"dataframe\">\n",
       "  <thead>\n",
       "    <tr style=\"text-align: right;\">\n",
       "      <th></th>\n",
       "      <th>Sr No</th>\n",
       "      <th>Date dd/mm/yyyy</th>\n",
       "      <th>Startup Name</th>\n",
       "      <th>Industry Vertical</th>\n",
       "      <th>SubVertical</th>\n",
       "      <th>City  Location</th>\n",
       "      <th>Investors Name</th>\n",
       "      <th>InvestmentnType</th>\n",
       "      <th>Amount in USD</th>\n",
       "      <th>Remarks</th>\n",
       "    </tr>\n",
       "  </thead>\n",
       "  <tbody>\n",
       "    <tr>\n",
       "      <th>0</th>\n",
       "      <td>1</td>\n",
       "      <td>09/01/2020</td>\n",
       "      <td>BYJU’S</td>\n",
       "      <td>E-Tech</td>\n",
       "      <td>E-learning</td>\n",
       "      <td>Bengaluru</td>\n",
       "      <td>Tiger Global Management</td>\n",
       "      <td>Private Equity Round</td>\n",
       "      <td>20,00,00,000</td>\n",
       "      <td>NaN</td>\n",
       "    </tr>\n",
       "    <tr>\n",
       "      <th>1</th>\n",
       "      <td>2</td>\n",
       "      <td>13/01/2020</td>\n",
       "      <td>Shuttl</td>\n",
       "      <td>Transportation</td>\n",
       "      <td>App based shuttle service</td>\n",
       "      <td>Gurgaon</td>\n",
       "      <td>Susquehanna Growth Equity</td>\n",
       "      <td>Series C</td>\n",
       "      <td>80,48,394</td>\n",
       "      <td>NaN</td>\n",
       "    </tr>\n",
       "    <tr>\n",
       "      <th>2</th>\n",
       "      <td>3</td>\n",
       "      <td>09/01/2020</td>\n",
       "      <td>Mamaearth</td>\n",
       "      <td>E-commerce</td>\n",
       "      <td>Retailer of baby and toddler products</td>\n",
       "      <td>Bengaluru</td>\n",
       "      <td>Sequoia Capital India</td>\n",
       "      <td>Series B</td>\n",
       "      <td>1,83,58,860</td>\n",
       "      <td>NaN</td>\n",
       "    </tr>\n",
       "    <tr>\n",
       "      <th>3</th>\n",
       "      <td>4</td>\n",
       "      <td>02/01/2020</td>\n",
       "      <td>https://www.wealthbucket.in/</td>\n",
       "      <td>FinTech</td>\n",
       "      <td>Online Investment</td>\n",
       "      <td>New Delhi</td>\n",
       "      <td>Vinod Khatumal</td>\n",
       "      <td>Pre-series A</td>\n",
       "      <td>30,00,000</td>\n",
       "      <td>NaN</td>\n",
       "    </tr>\n",
       "    <tr>\n",
       "      <th>4</th>\n",
       "      <td>5</td>\n",
       "      <td>02/01/2020</td>\n",
       "      <td>Fashor</td>\n",
       "      <td>Fashion and Apparel</td>\n",
       "      <td>Embroiled Clothes For Women</td>\n",
       "      <td>Mumbai</td>\n",
       "      <td>Sprout Venture Partners</td>\n",
       "      <td>Seed Round</td>\n",
       "      <td>18,00,000</td>\n",
       "      <td>NaN</td>\n",
       "    </tr>\n",
       "  </tbody>\n",
       "</table>\n",
       "</div>"
      ],
      "text/plain": [
       "   Sr No Date dd/mm/yyyy                  Startup Name    Industry Vertical  \\\n",
       "0      1      09/01/2020                        BYJU’S               E-Tech   \n",
       "1      2      13/01/2020                        Shuttl       Transportation   \n",
       "2      3      09/01/2020                     Mamaearth           E-commerce   \n",
       "3      4      02/01/2020  https://www.wealthbucket.in/              FinTech   \n",
       "4      5      02/01/2020                        Fashor  Fashion and Apparel   \n",
       "\n",
       "                             SubVertical City  Location  \\\n",
       "0                             E-learning      Bengaluru   \n",
       "1              App based shuttle service        Gurgaon   \n",
       "2  Retailer of baby and toddler products      Bengaluru   \n",
       "3                      Online Investment      New Delhi   \n",
       "4            Embroiled Clothes For Women         Mumbai   \n",
       "\n",
       "              Investors Name       InvestmentnType Amount in USD Remarks  \n",
       "0    Tiger Global Management  Private Equity Round  20,00,00,000     NaN  \n",
       "1  Susquehanna Growth Equity              Series C     80,48,394     NaN  \n",
       "2      Sequoia Capital India              Series B   1,83,58,860     NaN  \n",
       "3             Vinod Khatumal          Pre-series A     30,00,000     NaN  \n",
       "4    Sprout Venture Partners            Seed Round     18,00,000     NaN  "
      ]
     },
     "execution_count": 2,
     "metadata": {},
     "output_type": "execute_result"
    }
   ],
   "source": [
    "df = pd.read_csv('resources/startup_funding.csv')\n",
    "\n",
    "df.head()"
   ]
  },
  {
   "cell_type": "markdown",
   "id": "4d5ac8be",
   "metadata": {
    "cell_id": "82e8ab1d9af8428b8b546299ac875dc4",
    "deepnote_app_coordinates": {
     "h": 5,
     "w": 12,
     "x": 0,
     "y": 0
    },
    "deepnote_cell_type": "markdown",
    "papermill": {
     "duration": 0.007208,
     "end_time": "2023-11-05T08:03:06.612712",
     "exception": false,
     "start_time": "2023-11-05T08:03:06.605504",
     "status": "completed"
    },
    "tags": []
   },
   "source": [
    "### ***Dropping the Remark column and setting the Index column***"
   ]
  },
  {
   "cell_type": "code",
   "execution_count": 3,
   "id": "1da8391d",
   "metadata": {
    "cell_id": "18400efa9c9242f0935cede5fb9d7eeb",
    "deepnote_app_coordinates": {
     "h": 5,
     "w": 12,
     "x": 0,
     "y": 0
    },
    "deepnote_cell_type": "code",
    "deepnote_to_be_reexecuted": false,
    "execution": {
     "iopub.execute_input": "2023-11-05T08:03:06.629963Z",
     "iopub.status.busy": "2023-11-05T08:03:06.628881Z",
     "iopub.status.idle": "2023-11-05T08:03:06.656381Z",
     "shell.execute_reply": "2023-11-05T08:03:06.655395Z"
    },
    "execution_millis": 60,
    "execution_start": 1699170997565,
    "papermill": {
     "duration": 0.038517,
     "end_time": "2023-11-05T08:03:06.658714",
     "exception": false,
     "start_time": "2023-11-05T08:03:06.620197",
     "status": "completed"
    },
    "source_hash": "6f95090e",
    "tags": []
   },
   "outputs": [],
   "source": [
    "df.drop(columns = ['Remarks'],inplace = True)\n",
    "df.set_index('Sr No', inplace=True)"
   ]
  },
  {
   "cell_type": "markdown",
   "id": "55edbccf",
   "metadata": {
    "cell_id": "4195012d5b034d38a64ceb9145a772d1",
    "deepnote_app_coordinates": {
     "h": 5,
     "w": 12,
     "x": 0,
     "y": 0
    },
    "deepnote_cell_type": "markdown",
    "papermill": {
     "duration": 0.007499,
     "end_time": "2023-11-05T08:03:06.674214",
     "exception": false,
     "start_time": "2023-11-05T08:03:06.666715",
     "status": "completed"
    },
    "tags": []
   },
   "source": [
    "### ***Renaming the columns***"
   ]
  },
  {
   "cell_type": "code",
   "execution_count": 4,
   "id": "e57364e1",
   "metadata": {
    "cell_id": "f7489b58bd974e9881b10a3ce43a74c5",
    "deepnote_app_coordinates": {
     "h": 5,
     "w": 12,
     "x": 0,
     "y": 0
    },
    "deepnote_cell_type": "code",
    "deepnote_to_be_reexecuted": false,
    "execution": {
     "iopub.execute_input": "2023-11-05T08:03:06.691388Z",
     "iopub.status.busy": "2023-11-05T08:03:06.691003Z",
     "iopub.status.idle": "2023-11-05T08:03:06.698872Z",
     "shell.execute_reply": "2023-11-05T08:03:06.697798Z"
    },
    "execution_millis": 6,
    "execution_start": 1699171002911,
    "papermill": {
     "duration": 0.018896,
     "end_time": "2023-11-05T08:03:06.700950",
     "exception": false,
     "start_time": "2023-11-05T08:03:06.682054",
     "status": "completed"
    },
    "source_hash": "9fc86f73",
    "tags": []
   },
   "outputs": [
    {
     "data": {
      "text/html": [
       "<div>\n",
       "<style scoped>\n",
       "    .dataframe tbody tr th:only-of-type {\n",
       "        vertical-align: middle;\n",
       "    }\n",
       "\n",
       "    .dataframe tbody tr th {\n",
       "        vertical-align: top;\n",
       "    }\n",
       "\n",
       "    .dataframe thead th {\n",
       "        text-align: right;\n",
       "    }\n",
       "</style>\n",
       "<table border=\"1\" class=\"dataframe\">\n",
       "  <thead>\n",
       "    <tr style=\"text-align: right;\">\n",
       "      <th></th>\n",
       "      <th>date</th>\n",
       "      <th>startup</th>\n",
       "      <th>vertical</th>\n",
       "      <th>subvertical</th>\n",
       "      <th>city</th>\n",
       "      <th>investors</th>\n",
       "      <th>round</th>\n",
       "      <th>amount</th>\n",
       "    </tr>\n",
       "    <tr>\n",
       "      <th>Sr No</th>\n",
       "      <th></th>\n",
       "      <th></th>\n",
       "      <th></th>\n",
       "      <th></th>\n",
       "      <th></th>\n",
       "      <th></th>\n",
       "      <th></th>\n",
       "      <th></th>\n",
       "    </tr>\n",
       "  </thead>\n",
       "  <tbody>\n",
       "    <tr>\n",
       "      <th>1</th>\n",
       "      <td>09/01/2020</td>\n",
       "      <td>BYJU’S</td>\n",
       "      <td>E-Tech</td>\n",
       "      <td>E-learning</td>\n",
       "      <td>Bengaluru</td>\n",
       "      <td>Tiger Global Management</td>\n",
       "      <td>Private Equity Round</td>\n",
       "      <td>20,00,00,000</td>\n",
       "    </tr>\n",
       "    <tr>\n",
       "      <th>2</th>\n",
       "      <td>13/01/2020</td>\n",
       "      <td>Shuttl</td>\n",
       "      <td>Transportation</td>\n",
       "      <td>App based shuttle service</td>\n",
       "      <td>Gurgaon</td>\n",
       "      <td>Susquehanna Growth Equity</td>\n",
       "      <td>Series C</td>\n",
       "      <td>80,48,394</td>\n",
       "    </tr>\n",
       "    <tr>\n",
       "      <th>3</th>\n",
       "      <td>09/01/2020</td>\n",
       "      <td>Mamaearth</td>\n",
       "      <td>E-commerce</td>\n",
       "      <td>Retailer of baby and toddler products</td>\n",
       "      <td>Bengaluru</td>\n",
       "      <td>Sequoia Capital India</td>\n",
       "      <td>Series B</td>\n",
       "      <td>1,83,58,860</td>\n",
       "    </tr>\n",
       "    <tr>\n",
       "      <th>4</th>\n",
       "      <td>02/01/2020</td>\n",
       "      <td>https://www.wealthbucket.in/</td>\n",
       "      <td>FinTech</td>\n",
       "      <td>Online Investment</td>\n",
       "      <td>New Delhi</td>\n",
       "      <td>Vinod Khatumal</td>\n",
       "      <td>Pre-series A</td>\n",
       "      <td>30,00,000</td>\n",
       "    </tr>\n",
       "    <tr>\n",
       "      <th>5</th>\n",
       "      <td>02/01/2020</td>\n",
       "      <td>Fashor</td>\n",
       "      <td>Fashion and Apparel</td>\n",
       "      <td>Embroiled Clothes For Women</td>\n",
       "      <td>Mumbai</td>\n",
       "      <td>Sprout Venture Partners</td>\n",
       "      <td>Seed Round</td>\n",
       "      <td>18,00,000</td>\n",
       "    </tr>\n",
       "  </tbody>\n",
       "</table>\n",
       "</div>"
      ],
      "text/plain": [
       "             date                       startup             vertical  \\\n",
       "Sr No                                                                  \n",
       "1      09/01/2020                        BYJU’S               E-Tech   \n",
       "2      13/01/2020                        Shuttl       Transportation   \n",
       "3      09/01/2020                     Mamaearth           E-commerce   \n",
       "4      02/01/2020  https://www.wealthbucket.in/              FinTech   \n",
       "5      02/01/2020                        Fashor  Fashion and Apparel   \n",
       "\n",
       "                                 subvertical       city  \\\n",
       "Sr No                                                     \n",
       "1                                 E-learning  Bengaluru   \n",
       "2                  App based shuttle service    Gurgaon   \n",
       "3      Retailer of baby and toddler products  Bengaluru   \n",
       "4                          Online Investment  New Delhi   \n",
       "5                Embroiled Clothes For Women     Mumbai   \n",
       "\n",
       "                       investors                 round        amount  \n",
       "Sr No                                                                 \n",
       "1        Tiger Global Management  Private Equity Round  20,00,00,000  \n",
       "2      Susquehanna Growth Equity              Series C     80,48,394  \n",
       "3          Sequoia Capital India              Series B   1,83,58,860  \n",
       "4                 Vinod Khatumal          Pre-series A     30,00,000  \n",
       "5        Sprout Venture Partners            Seed Round     18,00,000  "
      ]
     },
     "execution_count": 4,
     "metadata": {},
     "output_type": "execute_result"
    }
   ],
   "source": [
    "df.rename(columns={\n",
    "    'Date dd/mm/yyyy': 'date',\n",
    "    'Startup Name': 'startup',\n",
    "    'Industry Vertical': 'vertical',\n",
    "    'SubVertical': 'subvertical',\n",
    "    'City  Location': 'city',\n",
    "    'Investors Name': 'investors',\n",
    "    'InvestmentnType': 'round',\n",
    "    'Amount in USD': 'amount'\n",
    "}, inplace=True)\n",
    "\n",
    "df.head()"
   ]
  },
  {
   "cell_type": "markdown",
   "id": "450c8e21",
   "metadata": {
    "cell_id": "4fab54b270e045d8a49f74d55c045a9d",
    "deepnote_app_coordinates": {
     "h": 5,
     "w": 12,
     "x": 0,
     "y": 0
    },
    "deepnote_cell_type": "markdown",
    "papermill": {
     "duration": 0.007827,
     "end_time": "2023-11-05T08:03:06.765176",
     "exception": false,
     "start_time": "2023-11-05T08:03:06.757349",
     "status": "completed"
    },
    "tags": []
   },
   "source": [
    "### ***Stripping and Replacing***"
   ]
  },
  {
   "cell_type": "code",
   "execution_count": 5,
   "id": "e5352ddc",
   "metadata": {
    "cell_id": "e1566b21772e400a8b7bcd115d2480dd",
    "deepnote_app_coordinates": {
     "h": 5,
     "w": 12,
     "x": 0,
     "y": 0
    },
    "deepnote_cell_type": "code",
    "deepnote_to_be_reexecuted": false,
    "execution": {
     "iopub.execute_input": "2023-11-05T08:03:06.783078Z",
     "iopub.status.busy": "2023-11-05T08:03:06.782404Z",
     "iopub.status.idle": "2023-11-05T08:03:06.807548Z",
     "shell.execute_reply": "2023-11-05T08:03:06.806802Z"
    },
    "execution_millis": 54,
    "execution_start": 1699171115453,
    "papermill": {
     "duration": 0.036435,
     "end_time": "2023-11-05T08:03:06.809616",
     "exception": false,
     "start_time": "2023-11-05T08:03:06.773181",
     "status": "completed"
    },
    "source_hash": "9c134605",
    "tags": []
   },
   "outputs": [
    {
     "data": {
      "text/html": [
       "<div>\n",
       "<style scoped>\n",
       "    .dataframe tbody tr th:only-of-type {\n",
       "        vertical-align: middle;\n",
       "    }\n",
       "\n",
       "    .dataframe tbody tr th {\n",
       "        vertical-align: top;\n",
       "    }\n",
       "\n",
       "    .dataframe thead th {\n",
       "        text-align: right;\n",
       "    }\n",
       "</style>\n",
       "<table border=\"1\" class=\"dataframe\">\n",
       "  <thead>\n",
       "    <tr style=\"text-align: right;\">\n",
       "      <th></th>\n",
       "      <th>date</th>\n",
       "      <th>startup</th>\n",
       "      <th>vertical</th>\n",
       "      <th>subvertical</th>\n",
       "      <th>city</th>\n",
       "      <th>investors</th>\n",
       "      <th>round</th>\n",
       "      <th>amount</th>\n",
       "    </tr>\n",
       "    <tr>\n",
       "      <th>Sr No</th>\n",
       "      <th></th>\n",
       "      <th></th>\n",
       "      <th></th>\n",
       "      <th></th>\n",
       "      <th></th>\n",
       "      <th></th>\n",
       "      <th></th>\n",
       "      <th></th>\n",
       "    </tr>\n",
       "  </thead>\n",
       "  <tbody>\n",
       "    <tr>\n",
       "      <th>1</th>\n",
       "      <td>09/01/2020</td>\n",
       "      <td>BYJU’S</td>\n",
       "      <td>E-Tech</td>\n",
       "      <td>E-learning</td>\n",
       "      <td>Bengaluru</td>\n",
       "      <td>Tiger Global Management</td>\n",
       "      <td>Private Equity Round</td>\n",
       "      <td>0000000</td>\n",
       "    </tr>\n",
       "    <tr>\n",
       "      <th>2</th>\n",
       "      <td>13/01/2020</td>\n",
       "      <td>Shuttl</td>\n",
       "      <td>Transportation</td>\n",
       "      <td>App based shuttle service</td>\n",
       "      <td>Gurgaon</td>\n",
       "      <td>Susquehanna Growth Equity</td>\n",
       "      <td>Series C</td>\n",
       "      <td>8048394</td>\n",
       "    </tr>\n",
       "    <tr>\n",
       "      <th>3</th>\n",
       "      <td>09/01/2020</td>\n",
       "      <td>Mamaearth</td>\n",
       "      <td>E-commerce</td>\n",
       "      <td>Retailer of baby and toddler products</td>\n",
       "      <td>Bengaluru</td>\n",
       "      <td>Sequoia Capital India</td>\n",
       "      <td>Series B</td>\n",
       "      <td>18358860</td>\n",
       "    </tr>\n",
       "    <tr>\n",
       "      <th>4</th>\n",
       "      <td>02/01/2020</td>\n",
       "      <td>https://www.wealthbucket.in/</td>\n",
       "      <td>FinTech</td>\n",
       "      <td>Online Investment</td>\n",
       "      <td>New Delhi</td>\n",
       "      <td>Vinod Khatumal</td>\n",
       "      <td>Pre-series A</td>\n",
       "      <td>3000000</td>\n",
       "    </tr>\n",
       "    <tr>\n",
       "      <th>5</th>\n",
       "      <td>02/01/2020</td>\n",
       "      <td>Fashor</td>\n",
       "      <td>Fashion and Apparel</td>\n",
       "      <td>Embroiled Clothes For Women</td>\n",
       "      <td>Mumbai</td>\n",
       "      <td>Sprout Venture Partners</td>\n",
       "      <td>Seed Round</td>\n",
       "      <td>1800000</td>\n",
       "    </tr>\n",
       "  </tbody>\n",
       "</table>\n",
       "</div>"
      ],
      "text/plain": [
       "             date                       startup             vertical  \\\n",
       "Sr No                                                                  \n",
       "1      09/01/2020                        BYJU’S               E-Tech   \n",
       "2      13/01/2020                        Shuttl       Transportation   \n",
       "3      09/01/2020                     Mamaearth           E-commerce   \n",
       "4      02/01/2020  https://www.wealthbucket.in/              FinTech   \n",
       "5      02/01/2020                        Fashor  Fashion and Apparel   \n",
       "\n",
       "                                 subvertical       city  \\\n",
       "Sr No                                                     \n",
       "1                                 E-learning  Bengaluru   \n",
       "2                  App based shuttle service    Gurgaon   \n",
       "3      Retailer of baby and toddler products  Bengaluru   \n",
       "4                          Online Investment  New Delhi   \n",
       "5                Embroiled Clothes For Women     Mumbai   \n",
       "\n",
       "                       investors                 round    amount  \n",
       "Sr No                                                             \n",
       "1        Tiger Global Management  Private Equity Round   0000000  \n",
       "2      Susquehanna Growth Equity              Series C   8048394  \n",
       "3          Sequoia Capital India              Series B  18358860  \n",
       "4                 Vinod Khatumal          Pre-series A   3000000  \n",
       "5        Sprout Venture Partners            Seed Round   1800000  "
      ]
     },
     "execution_count": 5,
     "metadata": {},
     "output_type": "execute_result"
    }
   ],
   "source": [
    "df.amount = df.amount.str.lstrip('\\\\xc2\\\\xa0')\n",
    "df.amount = df.amount.str.replace('N/A', '0')\n",
    "df.amount = df.amount.str.replace(',', '')\n",
    "df.amount = df.amount.str.replace('unknown', '0')\n",
    "df.amount = df.amount.str.replace('undisclosed', '0')\n",
    "df.amount = df.amount.str.replace('Undisclosed', '0')\n",
    "df.amount = df.amount.str.rstrip('+')\n",
    "\n",
    "df.head()"
   ]
  },
  {
   "cell_type": "markdown",
   "id": "589c717c",
   "metadata": {
    "cell_id": "72686322283f4f8fa61c881401ebfe16",
    "deepnote_app_coordinates": {
     "h": 5,
     "w": 12,
     "x": 0,
     "y": 0
    },
    "deepnote_cell_type": "markdown",
    "papermill": {
     "duration": 0.007977,
     "end_time": "2023-11-05T08:03:06.825945",
     "exception": false,
     "start_time": "2023-11-05T08:03:06.817968",
     "status": "completed"
    },
    "tags": []
   },
   "source": [
    "### ***Typecasting the amount values to float64***"
   ]
  },
  {
   "cell_type": "code",
   "execution_count": 6,
   "id": "b9a0f630",
   "metadata": {
    "cell_id": "b9f4eb7887814e1b87cad17ef2b40ad2",
    "deepnote_app_coordinates": {
     "h": 5,
     "w": 12,
     "x": 0,
     "y": 0
    },
    "deepnote_cell_type": "code",
    "deepnote_to_be_reexecuted": false,
    "execution": {
     "iopub.execute_input": "2023-11-05T08:03:06.846094Z",
     "iopub.status.busy": "2023-11-05T08:03:06.845023Z",
     "iopub.status.idle": "2023-11-05T08:03:06.852796Z",
     "shell.execute_reply": "2023-11-05T08:03:06.851835Z"
    },
    "execution_millis": 9,
    "execution_start": 1699171118650,
    "papermill": {
     "duration": 0.020633,
     "end_time": "2023-11-05T08:03:06.854714",
     "exception": false,
     "start_time": "2023-11-05T08:03:06.834081",
     "status": "completed"
    },
    "source_hash": "6efefbe5",
    "tags": []
   },
   "outputs": [
    {
     "data": {
      "text/plain": [
       "dtype('float64')"
      ]
     },
     "execution_count": 6,
     "metadata": {},
     "output_type": "execute_result"
    }
   ],
   "source": [
    "df.amount = df.amount.astype(float)\n",
    "\n",
    "df.amount.dtype"
   ]
  },
  {
   "cell_type": "markdown",
   "id": "e0c8109c",
   "metadata": {
    "cell_id": "69265ae2e27740738683387c21b74572",
    "deepnote_app_coordinates": {
     "h": 5,
     "w": 12,
     "x": 0,
     "y": 0
    },
    "deepnote_cell_type": "text-cell-h3",
    "formattedRanges": [
     {
      "fromCodePoint": 0,
      "marks": {
       "italic": true
      },
      "toCodePoint": 24,
      "type": "marks"
     }
    ],
    "is_collapsed": false,
    "papermill": {
     "duration": 0.007994,
     "end_time": "2023-11-05T08:03:06.870985",
     "exception": false,
     "start_time": "2023-11-05T08:03:06.862991",
     "status": "completed"
    },
    "tags": []
   },
   "source": [
    "### ***Cleaning Startups column***"
   ]
  },
  {
   "cell_type": "code",
   "execution_count": 7,
   "id": "1ee58a58",
   "metadata": {
    "cell_id": "5d66014b6c7e4b0ab4833e6649e3c3d7",
    "deepnote_app_coordinates": {
     "h": 5,
     "w": 12,
     "x": 0,
     "y": 0
    },
    "deepnote_cell_type": "code",
    "deepnote_to_be_reexecuted": false,
    "execution": {
     "iopub.execute_input": "2023-11-05T08:03:06.889544Z",
     "iopub.status.busy": "2023-11-05T08:03:06.889172Z",
     "iopub.status.idle": "2023-11-05T08:03:06.907890Z",
     "shell.execute_reply": "2023-11-05T08:03:06.906828Z"
    },
    "execution_millis": 24,
    "execution_start": 1699171125568,
    "papermill": {
     "duration": 0.030377,
     "end_time": "2023-11-05T08:03:06.909966",
     "exception": false,
     "start_time": "2023-11-05T08:03:06.879589",
     "status": "completed"
    },
    "source_hash": "d78f5672",
    "tags": []
   },
   "outputs": [
    {
     "data": {
      "text/html": [
       "<div>\n",
       "<style scoped>\n",
       "    .dataframe tbody tr th:only-of-type {\n",
       "        vertical-align: middle;\n",
       "    }\n",
       "\n",
       "    .dataframe tbody tr th {\n",
       "        vertical-align: top;\n",
       "    }\n",
       "\n",
       "    .dataframe thead th {\n",
       "        text-align: right;\n",
       "    }\n",
       "</style>\n",
       "<table border=\"1\" class=\"dataframe\">\n",
       "  <thead>\n",
       "    <tr style=\"text-align: right;\">\n",
       "      <th></th>\n",
       "      <th>date</th>\n",
       "      <th>startup</th>\n",
       "      <th>vertical</th>\n",
       "      <th>subvertical</th>\n",
       "      <th>city</th>\n",
       "      <th>investors</th>\n",
       "      <th>round</th>\n",
       "      <th>amount</th>\n",
       "    </tr>\n",
       "    <tr>\n",
       "      <th>Sr No</th>\n",
       "      <th></th>\n",
       "      <th></th>\n",
       "      <th></th>\n",
       "      <th></th>\n",
       "      <th></th>\n",
       "      <th></th>\n",
       "      <th></th>\n",
       "      <th></th>\n",
       "    </tr>\n",
       "  </thead>\n",
       "  <tbody>\n",
       "    <tr>\n",
       "      <th>61</th>\n",
       "      <td>27/08/2019</td>\n",
       "      <td>Rapido Bike Taxi</td>\n",
       "      <td>Transportation</td>\n",
       "      <td>Bike Taxi</td>\n",
       "      <td>Bengaluru</td>\n",
       "      <td>Westbridge Capital</td>\n",
       "      <td>Series B</td>\n",
       "      <td>3.900000e+09</td>\n",
       "    </tr>\n",
       "    <tr>\n",
       "      <th>504</th>\n",
       "      <td>21/11/2017</td>\n",
       "      <td>Rapido</td>\n",
       "      <td>Technology</td>\n",
       "      <td>Bike and Taxi pooling online platform</td>\n",
       "      <td>Hyderabad</td>\n",
       "      <td>Skycatcher Fund, Aravind Sanka</td>\n",
       "      <td>Seed/Angel Funding</td>\n",
       "      <td>3.292300e+05</td>\n",
       "    </tr>\n",
       "    <tr>\n",
       "      <th>622</th>\n",
       "      <td>25/09/2017</td>\n",
       "      <td>Rapido</td>\n",
       "      <td>Consumer Internet</td>\n",
       "      <td>Bike Aggregator Mobile App</td>\n",
       "      <td>Bangalore</td>\n",
       "      <td>Battery Road Digital Holdings LLC</td>\n",
       "      <td>Seed Funding</td>\n",
       "      <td>4.220000e+05</td>\n",
       "    </tr>\n",
       "    <tr>\n",
       "      <th>1781</th>\n",
       "      <td>18/04/2016</td>\n",
       "      <td>Rapido</td>\n",
       "      <td>Consumer Internet</td>\n",
       "      <td>Bike Aggregator App</td>\n",
       "      <td>Bangalore</td>\n",
       "      <td>Pawan Munjal, AdvantEdge Partners, Astarc Vent...</td>\n",
       "      <td>Private Equity</td>\n",
       "      <td>NaN</td>\n",
       "    </tr>\n",
       "  </tbody>\n",
       "</table>\n",
       "</div>"
      ],
      "text/plain": [
       "             date           startup           vertical  \\\n",
       "Sr No                                                    \n",
       "61     27/08/2019  Rapido Bike Taxi     Transportation   \n",
       "504    21/11/2017            Rapido         Technology   \n",
       "622    25/09/2017            Rapido  Consumer Internet   \n",
       "1781   18/04/2016            Rapido  Consumer Internet   \n",
       "\n",
       "                                 subvertical       city  \\\n",
       "Sr No                                                     \n",
       "61                                 Bike Taxi  Bengaluru   \n",
       "504    Bike and Taxi pooling online platform  Hyderabad   \n",
       "622               Bike Aggregator Mobile App  Bangalore   \n",
       "1781                     Bike Aggregator App  Bangalore   \n",
       "\n",
       "                                               investors               round  \\\n",
       "Sr No                                                                          \n",
       "61                                    Westbridge Capital            Series B   \n",
       "504                       Skycatcher Fund, Aravind Sanka  Seed/Angel Funding   \n",
       "622                    Battery Road Digital Holdings LLC        Seed Funding   \n",
       "1781   Pawan Munjal, AdvantEdge Partners, Astarc Vent...      Private Equity   \n",
       "\n",
       "             amount  \n",
       "Sr No                \n",
       "61     3.900000e+09  \n",
       "504    3.292300e+05  \n",
       "622    4.220000e+05  \n",
       "1781            NaN  "
      ]
     },
     "execution_count": 7,
     "metadata": {},
     "output_type": "execute_result"
    }
   ],
   "source": [
    "df.startup = df.startup.str.replace(\"http://\", '')\n",
    "df.startup = df.startup.str.replace(\".in\", '')\n",
    "df.startup = df.startup.str.replace(\".com\", '')\n",
    "\n",
    "df.startup = df.startup.str.strip(\"\\\\xe2\\\\x80\\\\x99\")\n",
    "df.startup = df.startup.str.strip('\"')\n",
    "df.startup = df.startup.str.replace('\\\\', '')\n",
    "\n",
    "df[df['startup'].str.contains(\"Rapido\")]"
   ]
  },
  {
   "cell_type": "markdown",
   "id": "b0fc682f",
   "metadata": {
    "cell_id": "52d1622551b94740ab912760152a3c64",
    "deepnote_app_coordinates": {
     "h": 5,
     "w": 12,
     "x": 0,
     "y": 0
    },
    "deepnote_cell_type": "markdown",
    "papermill": {
     "duration": 0.008278,
     "end_time": "2023-11-05T08:03:06.972781",
     "exception": false,
     "start_time": "2023-11-05T08:03:06.964503",
     "status": "completed"
    },
    "tags": []
   },
   "source": [
    "### ***Normalized Conversion to Rupees***"
   ]
  },
  {
   "cell_type": "code",
   "execution_count": 8,
   "id": "29f5e2e8",
   "metadata": {
    "cell_id": "2963c12d4d6340899fbbbc29ea65c664",
    "deepnote_app_coordinates": {
     "h": 5,
     "w": 12,
     "x": 0,
     "y": 0
    },
    "deepnote_cell_type": "code",
    "deepnote_to_be_reexecuted": false,
    "execution": {
     "iopub.execute_input": "2023-11-05T08:03:06.992118Z",
     "iopub.status.busy": "2023-11-05T08:03:06.991160Z",
     "iopub.status.idle": "2023-11-05T08:03:07.007213Z",
     "shell.execute_reply": "2023-11-05T08:03:07.006492Z"
    },
    "execution_millis": 24,
    "execution_start": 1699171143673,
    "papermill": {
     "duration": 0.027918,
     "end_time": "2023-11-05T08:03:07.009202",
     "exception": false,
     "start_time": "2023-11-05T08:03:06.981284",
     "status": "completed"
    },
    "source_hash": "9be9070b",
    "tags": []
   },
   "outputs": [
    {
     "data": {
      "text/html": [
       "<div>\n",
       "<style scoped>\n",
       "    .dataframe tbody tr th:only-of-type {\n",
       "        vertical-align: middle;\n",
       "    }\n",
       "\n",
       "    .dataframe tbody tr th {\n",
       "        vertical-align: top;\n",
       "    }\n",
       "\n",
       "    .dataframe thead th {\n",
       "        text-align: right;\n",
       "    }\n",
       "</style>\n",
       "<table border=\"1\" class=\"dataframe\">\n",
       "  <thead>\n",
       "    <tr style=\"text-align: right;\">\n",
       "      <th></th>\n",
       "      <th>date</th>\n",
       "      <th>startup</th>\n",
       "      <th>vertical</th>\n",
       "      <th>subvertical</th>\n",
       "      <th>city</th>\n",
       "      <th>investors</th>\n",
       "      <th>round</th>\n",
       "      <th>amount</th>\n",
       "    </tr>\n",
       "    <tr>\n",
       "      <th>Sr No</th>\n",
       "      <th></th>\n",
       "      <th></th>\n",
       "      <th></th>\n",
       "      <th></th>\n",
       "      <th></th>\n",
       "      <th></th>\n",
       "      <th></th>\n",
       "      <th></th>\n",
       "    </tr>\n",
       "  </thead>\n",
       "  <tbody>\n",
       "    <tr>\n",
       "      <th>2605</th>\n",
       "      <td>09/07/2015</td>\n",
       "      <td>c2xa0Shopsity</td>\n",
       "      <td>\\\\xc2\\\\xa0Fashion Info Aggregator App</td>\n",
       "      <td>NaN</td>\n",
       "      <td>\\\\xc2\\\\xa0Gurgaon</td>\n",
       "      <td>\\\\xc2\\\\xa0 Sandeep Aggarwal, Teruhide Sato</td>\n",
       "      <td>Seed Funding</td>\n",
       "      <td>0.000000</td>\n",
       "    </tr>\n",
       "    <tr>\n",
       "      <th>2606</th>\n",
       "      <td>09/07/2015</td>\n",
       "      <td>c2xa0Notesgen</td>\n",
       "      <td>\\\\xc2\\\\xa0Online Study Notes Marketplace</td>\n",
       "      <td>NaN</td>\n",
       "      <td>\\\\xc2\\\\xa0New Delhi</td>\n",
       "      <td>\\\\xc2\\\\xa0Rajeev Saraf, Arvind Jha, R. Satya N...</td>\n",
       "      <td>Seed Funding</td>\n",
       "      <td>0.000000</td>\n",
       "    </tr>\n",
       "    <tr>\n",
       "      <th>2607</th>\n",
       "      <td>\\\\xc2\\\\xa010/7/2015</td>\n",
       "      <td>c2xa0Infinity Assuranc</td>\n",
       "      <td>\\\\xc2\\\\xa0Warranty Programs Service Administra...</td>\n",
       "      <td>NaN</td>\n",
       "      <td>\\\\xc2\\\\xa0New Delhi</td>\n",
       "      <td>\\\\xc2\\\\xa0Indian Angel Network</td>\n",
       "      <td>Seed Funding</td>\n",
       "      <td>4.990200</td>\n",
       "    </tr>\n",
       "    <tr>\n",
       "      <th>2608</th>\n",
       "      <td>10/07/2015</td>\n",
       "      <td>c2xa0Footprints Education</td>\n",
       "      <td>\\\\xc2\\\\xa0Pre-School Chain</td>\n",
       "      <td>NaN</td>\n",
       "      <td>\\\\xc2\\\\xa0Gurgaon</td>\n",
       "      <td>\\\\xc2\\\\xa0LetsVenture, Kumar Bansal, Kshitij Jain</td>\n",
       "      <td>Seed Funding</td>\n",
       "      <td>5.697145</td>\n",
       "    </tr>\n",
       "    <tr>\n",
       "      <th>2609</th>\n",
       "      <td>10/07/2015</td>\n",
       "      <td>c2xa0Loylty Rewards</td>\n",
       "      <td>\\\\xc2\\\\xa0Premium Loyalty Rewards Point Manage...</td>\n",
       "      <td>NaN</td>\n",
       "      <td>\\\\xc2\\\\xa0Mumbai</td>\n",
       "      <td>\\\\xc2\\\\xa0IndianIdeas.com</td>\n",
       "      <td>Private Equity</td>\n",
       "      <td>160.933950</td>\n",
       "    </tr>\n",
       "    <tr>\n",
       "      <th>2610</th>\n",
       "      <td>13/07/2015</td>\n",
       "      <td>c2xa0Ameyo</td>\n",
       "      <td>\\\\xc2\\\\xa0Contact Center Software Platform</td>\n",
       "      <td>NaN</td>\n",
       "      <td>\\\\xc2\\\\xa0Gurgaon</td>\n",
       "      <td>\\\\xc2\\\\xa0Forum Synergies PE Fund</td>\n",
       "      <td>Private Equity</td>\n",
       "      <td>41.585000</td>\n",
       "    </tr>\n",
       "  </tbody>\n",
       "</table>\n",
       "</div>"
      ],
      "text/plain": [
       "                      date                    startup  \\\n",
       "Sr No                                                   \n",
       "2605            09/07/2015              c2xa0Shopsity   \n",
       "2606            09/07/2015              c2xa0Notesgen   \n",
       "2607   \\\\xc2\\\\xa010/7/2015     c2xa0Infinity Assuranc   \n",
       "2608            10/07/2015  c2xa0Footprints Education   \n",
       "2609            10/07/2015        c2xa0Loylty Rewards   \n",
       "2610            13/07/2015                 c2xa0Ameyo   \n",
       "\n",
       "                                                vertical subvertical  \\\n",
       "Sr No                                                                  \n",
       "2605               \\\\xc2\\\\xa0Fashion Info Aggregator App         NaN   \n",
       "2606            \\\\xc2\\\\xa0Online Study Notes Marketplace         NaN   \n",
       "2607   \\\\xc2\\\\xa0Warranty Programs Service Administra...         NaN   \n",
       "2608                          \\\\xc2\\\\xa0Pre-School Chain         NaN   \n",
       "2609   \\\\xc2\\\\xa0Premium Loyalty Rewards Point Manage...         NaN   \n",
       "2610          \\\\xc2\\\\xa0Contact Center Software Platform         NaN   \n",
       "\n",
       "                      city                                          investors  \\\n",
       "Sr No                                                                           \n",
       "2605     \\\\xc2\\\\xa0Gurgaon         \\\\xc2\\\\xa0 Sandeep Aggarwal, Teruhide Sato   \n",
       "2606   \\\\xc2\\\\xa0New Delhi  \\\\xc2\\\\xa0Rajeev Saraf, Arvind Jha, R. Satya N...   \n",
       "2607   \\\\xc2\\\\xa0New Delhi                     \\\\xc2\\\\xa0Indian Angel Network   \n",
       "2608     \\\\xc2\\\\xa0Gurgaon  \\\\xc2\\\\xa0LetsVenture, Kumar Bansal, Kshitij Jain   \n",
       "2609      \\\\xc2\\\\xa0Mumbai                          \\\\xc2\\\\xa0IndianIdeas.com   \n",
       "2610     \\\\xc2\\\\xa0Gurgaon                  \\\\xc2\\\\xa0Forum Synergies PE Fund   \n",
       "\n",
       "                round      amount  \n",
       "Sr No                              \n",
       "2605     Seed Funding    0.000000  \n",
       "2606     Seed Funding    0.000000  \n",
       "2607     Seed Funding    4.990200  \n",
       "2608     Seed Funding    5.697145  \n",
       "2609   Private Equity  160.933950  \n",
       "2610   Private Equity   41.585000  "
      ]
     },
     "execution_count": 8,
     "metadata": {},
     "output_type": "execute_result"
    }
   ],
   "source": [
    "def to_inr(dollar):\n",
    "    inr = dollar * 83.17\n",
    "    return inr/10000000\n",
    "\n",
    "df['amount'] = df['amount'].apply(to_inr)\n",
    "\n",
    "df.iloc[2604:2610, :]"
   ]
  },
  {
   "cell_type": "markdown",
   "id": "a8ab377a",
   "metadata": {
    "cell_id": "54d7cb1c69c24fd6b81a16ba91bb67fe",
    "deepnote_app_coordinates": {
     "h": 5,
     "w": 12,
     "x": 0,
     "y": 0
    },
    "deepnote_cell_type": "markdown",
    "papermill": {
     "duration": 0.008604,
     "end_time": "2023-11-05T08:03:07.026784",
     "exception": false,
     "start_time": "2023-11-05T08:03:07.018180",
     "status": "completed"
    },
    "tags": []
   },
   "source": [
    "### ***Stripping the columns startup, vertical, city, investors and date***"
   ]
  },
  {
   "cell_type": "code",
   "execution_count": 9,
   "id": "8f580e6a",
   "metadata": {
    "cell_id": "1912a40c375747858b4d9fa5f2ebea98",
    "deepnote_app_coordinates": {
     "h": 5,
     "w": 12,
     "x": 0,
     "y": 0
    },
    "deepnote_cell_type": "code",
    "deepnote_to_be_reexecuted": false,
    "execution": {
     "iopub.execute_input": "2023-11-05T08:03:07.046551Z",
     "iopub.status.busy": "2023-11-05T08:03:07.046145Z",
     "iopub.status.idle": "2023-11-05T08:03:07.070028Z",
     "shell.execute_reply": "2023-11-05T08:03:07.069002Z"
    },
    "execution_millis": 116,
    "execution_start": 1699171159913,
    "papermill": {
     "duration": 0.03669,
     "end_time": "2023-11-05T08:03:07.072477",
     "exception": false,
     "start_time": "2023-11-05T08:03:07.035787",
     "status": "completed"
    },
    "source_hash": "9a1c9bdd",
    "tags": []
   },
   "outputs": [
    {
     "data": {
      "text/plain": [
       "'Kedaraa Capital, Ontario Teachers'"
      ]
     },
     "execution_count": 9,
     "metadata": {},
     "output_type": "execute_result"
    }
   ],
   "source": [
    "def colstrip(df, cols):\n",
    "    for col in cols:\n",
    "        df[col] = df[col].str.lstrip('\\\\xc2\\\\xa0')\n",
    "        \n",
    "colstrip(df, ['startup', 'vertical', 'city', 'investors'])\n",
    "\n",
    "df.investors = df.investors.str.replace('\\\\', '')\n",
    "\n",
    "df.at[4, 'startup'] = 'Wealth Bucket'\n",
    "\n",
    "# x = df[df.date.str.contains(\"2017\")]\n",
    "# x[x.investors.str.contains(\"Kedaraa\").values == True]\n",
    "\n",
    "df.at[465, 'investors'] = df.at[465, 'investors'].strip('\"')\n",
    "df.at[465, 'investors'] = df.at[465, 'investors'][:-1]\n",
    "df.at[465, 'investors']"
   ]
  },
  {
   "cell_type": "markdown",
   "id": "a8bc67ba",
   "metadata": {},
   "source": [
    "### ***Fixing the 'dates' column*** using **Excel**"
   ]
  },
  {
   "cell_type": "code",
   "execution_count": 10,
   "id": "370d81f2",
   "metadata": {},
   "outputs": [
    {
     "data": {
      "text/html": [
       "<div>\n",
       "<style scoped>\n",
       "    .dataframe tbody tr th:only-of-type {\n",
       "        vertical-align: middle;\n",
       "    }\n",
       "\n",
       "    .dataframe tbody tr th {\n",
       "        vertical-align: top;\n",
       "    }\n",
       "\n",
       "    .dataframe thead th {\n",
       "        text-align: right;\n",
       "    }\n",
       "</style>\n",
       "<table border=\"1\" class=\"dataframe\">\n",
       "  <thead>\n",
       "    <tr style=\"text-align: right;\">\n",
       "      <th></th>\n",
       "      <th>date</th>\n",
       "      <th>startup</th>\n",
       "      <th>vertical</th>\n",
       "      <th>subvertical</th>\n",
       "      <th>city</th>\n",
       "      <th>investors</th>\n",
       "      <th>round</th>\n",
       "      <th>amount</th>\n",
       "    </tr>\n",
       "    <tr>\n",
       "      <th>Sr No</th>\n",
       "      <th></th>\n",
       "      <th></th>\n",
       "      <th></th>\n",
       "      <th></th>\n",
       "      <th></th>\n",
       "      <th></th>\n",
       "      <th></th>\n",
       "      <th></th>\n",
       "    </tr>\n",
       "  </thead>\n",
       "  <tbody>\n",
       "    <tr>\n",
       "      <th>1</th>\n",
       "      <td>2020-09-01</td>\n",
       "      <td>BYJU’S</td>\n",
       "      <td>E-Tech</td>\n",
       "      <td>E-learning</td>\n",
       "      <td>Bengaluru</td>\n",
       "      <td>Tiger Global Management</td>\n",
       "      <td>Private Equity Round</td>\n",
       "      <td>0.000000</td>\n",
       "    </tr>\n",
       "    <tr>\n",
       "      <th>2</th>\n",
       "      <td>2020-01-13</td>\n",
       "      <td>Shuttl</td>\n",
       "      <td>Transportation</td>\n",
       "      <td>App based shuttle service</td>\n",
       "      <td>Gurgaon</td>\n",
       "      <td>Susquehanna Growth Equity</td>\n",
       "      <td>Series C</td>\n",
       "      <td>66.938493</td>\n",
       "    </tr>\n",
       "    <tr>\n",
       "      <th>3</th>\n",
       "      <td>2020-09-01</td>\n",
       "      <td>Mamaearth</td>\n",
       "      <td>E-commerce</td>\n",
       "      <td>Retailer of baby and toddler products</td>\n",
       "      <td>Bengaluru</td>\n",
       "      <td>Sequoia Capital India</td>\n",
       "      <td>Series B</td>\n",
       "      <td>152.690639</td>\n",
       "    </tr>\n",
       "    <tr>\n",
       "      <th>4</th>\n",
       "      <td>2020-01-01</td>\n",
       "      <td>Wealth Bucket</td>\n",
       "      <td>FinTech</td>\n",
       "      <td>Online Investment</td>\n",
       "      <td>New Delhi</td>\n",
       "      <td>Vinod Khatumal</td>\n",
       "      <td>Pre-series A</td>\n",
       "      <td>24.951000</td>\n",
       "    </tr>\n",
       "    <tr>\n",
       "      <th>5</th>\n",
       "      <td>2020-01-01</td>\n",
       "      <td>Fashor</td>\n",
       "      <td>Fashion and Apparel</td>\n",
       "      <td>Embroiled Clothes For Women</td>\n",
       "      <td>Mumbai</td>\n",
       "      <td>Sprout Venture Partners</td>\n",
       "      <td>Seed Round</td>\n",
       "      <td>14.970600</td>\n",
       "    </tr>\n",
       "  </tbody>\n",
       "</table>\n",
       "</div>"
      ],
      "text/plain": [
       "            date        startup             vertical  \\\n",
       "Sr No                                                  \n",
       "1     2020-09-01         BYJU’S               E-Tech   \n",
       "2     2020-01-13         Shuttl       Transportation   \n",
       "3     2020-09-01      Mamaearth           E-commerce   \n",
       "4     2020-01-01  Wealth Bucket              FinTech   \n",
       "5     2020-01-01         Fashor  Fashion and Apparel   \n",
       "\n",
       "                                 subvertical       city  \\\n",
       "Sr No                                                     \n",
       "1                                 E-learning  Bengaluru   \n",
       "2                  App based shuttle service    Gurgaon   \n",
       "3      Retailer of baby and toddler products  Bengaluru   \n",
       "4                          Online Investment  New Delhi   \n",
       "5                Embroiled Clothes For Women     Mumbai   \n",
       "\n",
       "                       investors                 round      amount  \n",
       "Sr No                                                               \n",
       "1        Tiger Global Management  Private Equity Round    0.000000  \n",
       "2      Susquehanna Growth Equity              Series C   66.938493  \n",
       "3          Sequoia Capital India              Series B  152.690639  \n",
       "4                 Vinod Khatumal          Pre-series A   24.951000  \n",
       "5        Sprout Venture Partners            Seed Round   14.970600  "
      ]
     },
     "execution_count": 10,
     "metadata": {},
     "output_type": "execute_result"
    }
   ],
   "source": [
    "df.date = df.date.str.lstrip('\\\\xc2\\\\xa0')\n",
    "\n",
    "dt = [193, 2572, 2776, 2777, 2832, 3012, 3030]\n",
    "\n",
    "df.at[dt[0], 'date'] = '5/07/2018'\n",
    "df.at[dt[1], 'date'] = '1/07/2015'\n",
    "\n",
    "for i in range(2, 6):\n",
    "    df.at[dt[i], 'date'] = df.at[dt[i], 'date'].replace('.', '/')\n",
    "\n",
    "df.at[dt[6], 'date'] = '22' + df.at[dt[6], 'date']\n",
    "df.at[dt[6], 'date'] = df.at[dt[6], 'date'].replace('//', '/')\n",
    "\n",
    "df.date = pd.to_datetime(df.date, format='mixed')\n",
    "\n",
    "df.head()"
   ]
  },
  {
   "cell_type": "markdown",
   "id": "65fb9a12",
   "metadata": {},
   "source": [
    "### Getting the _month_ and _year_"
   ]
  },
  {
   "cell_type": "code",
   "execution_count": 11,
   "id": "0ba7306b",
   "metadata": {},
   "outputs": [
    {
     "data": {
      "text/html": [
       "<div>\n",
       "<style scoped>\n",
       "    .dataframe tbody tr th:only-of-type {\n",
       "        vertical-align: middle;\n",
       "    }\n",
       "\n",
       "    .dataframe tbody tr th {\n",
       "        vertical-align: top;\n",
       "    }\n",
       "\n",
       "    .dataframe thead th {\n",
       "        text-align: right;\n",
       "    }\n",
       "</style>\n",
       "<table border=\"1\" class=\"dataframe\">\n",
       "  <thead>\n",
       "    <tr style=\"text-align: right;\">\n",
       "      <th></th>\n",
       "      <th>date</th>\n",
       "      <th>startup</th>\n",
       "      <th>vertical</th>\n",
       "      <th>subvertical</th>\n",
       "      <th>city</th>\n",
       "      <th>investors</th>\n",
       "      <th>round</th>\n",
       "      <th>amount</th>\n",
       "      <th>month</th>\n",
       "      <th>year</th>\n",
       "    </tr>\n",
       "    <tr>\n",
       "      <th>Sr No</th>\n",
       "      <th></th>\n",
       "      <th></th>\n",
       "      <th></th>\n",
       "      <th></th>\n",
       "      <th></th>\n",
       "      <th></th>\n",
       "      <th></th>\n",
       "      <th></th>\n",
       "      <th></th>\n",
       "      <th></th>\n",
       "    </tr>\n",
       "  </thead>\n",
       "  <tbody>\n",
       "    <tr>\n",
       "      <th>1</th>\n",
       "      <td>2020-09-01</td>\n",
       "      <td>BYJU’S</td>\n",
       "      <td>E-Tech</td>\n",
       "      <td>E-learning</td>\n",
       "      <td>Bengaluru</td>\n",
       "      <td>Tiger Global Management</td>\n",
       "      <td>Private Equity Round</td>\n",
       "      <td>0.000000</td>\n",
       "      <td>9</td>\n",
       "      <td>2020</td>\n",
       "    </tr>\n",
       "    <tr>\n",
       "      <th>2</th>\n",
       "      <td>2020-01-13</td>\n",
       "      <td>Shuttl</td>\n",
       "      <td>Transportation</td>\n",
       "      <td>App based shuttle service</td>\n",
       "      <td>Gurgaon</td>\n",
       "      <td>Susquehanna Growth Equity</td>\n",
       "      <td>Series C</td>\n",
       "      <td>66.938493</td>\n",
       "      <td>1</td>\n",
       "      <td>2020</td>\n",
       "    </tr>\n",
       "    <tr>\n",
       "      <th>3</th>\n",
       "      <td>2020-09-01</td>\n",
       "      <td>Mamaearth</td>\n",
       "      <td>E-commerce</td>\n",
       "      <td>Retailer of baby and toddler products</td>\n",
       "      <td>Bengaluru</td>\n",
       "      <td>Sequoia Capital India</td>\n",
       "      <td>Series B</td>\n",
       "      <td>152.690639</td>\n",
       "      <td>9</td>\n",
       "      <td>2020</td>\n",
       "    </tr>\n",
       "    <tr>\n",
       "      <th>4</th>\n",
       "      <td>2020-01-01</td>\n",
       "      <td>Wealth Bucket</td>\n",
       "      <td>FinTech</td>\n",
       "      <td>Online Investment</td>\n",
       "      <td>New Delhi</td>\n",
       "      <td>Vinod Khatumal</td>\n",
       "      <td>Pre-series A</td>\n",
       "      <td>24.951000</td>\n",
       "      <td>1</td>\n",
       "      <td>2020</td>\n",
       "    </tr>\n",
       "    <tr>\n",
       "      <th>5</th>\n",
       "      <td>2020-01-01</td>\n",
       "      <td>Fashor</td>\n",
       "      <td>Fashion and Apparel</td>\n",
       "      <td>Embroiled Clothes For Women</td>\n",
       "      <td>Mumbai</td>\n",
       "      <td>Sprout Venture Partners</td>\n",
       "      <td>Seed Round</td>\n",
       "      <td>14.970600</td>\n",
       "      <td>1</td>\n",
       "      <td>2020</td>\n",
       "    </tr>\n",
       "  </tbody>\n",
       "</table>\n",
       "</div>"
      ],
      "text/plain": [
       "            date        startup             vertical  \\\n",
       "Sr No                                                  \n",
       "1     2020-09-01         BYJU’S               E-Tech   \n",
       "2     2020-01-13         Shuttl       Transportation   \n",
       "3     2020-09-01      Mamaearth           E-commerce   \n",
       "4     2020-01-01  Wealth Bucket              FinTech   \n",
       "5     2020-01-01         Fashor  Fashion and Apparel   \n",
       "\n",
       "                                 subvertical       city  \\\n",
       "Sr No                                                     \n",
       "1                                 E-learning  Bengaluru   \n",
       "2                  App based shuttle service    Gurgaon   \n",
       "3      Retailer of baby and toddler products  Bengaluru   \n",
       "4                          Online Investment  New Delhi   \n",
       "5                Embroiled Clothes For Women     Mumbai   \n",
       "\n",
       "                       investors                 round      amount  month  \\\n",
       "Sr No                                                                       \n",
       "1        Tiger Global Management  Private Equity Round    0.000000      9   \n",
       "2      Susquehanna Growth Equity              Series C   66.938493      1   \n",
       "3          Sequoia Capital India              Series B  152.690639      9   \n",
       "4                 Vinod Khatumal          Pre-series A   24.951000      1   \n",
       "5        Sprout Venture Partners            Seed Round   14.970600      1   \n",
       "\n",
       "       year  \n",
       "Sr No        \n",
       "1      2020  \n",
       "2      2020  \n",
       "3      2020  \n",
       "4      2020  \n",
       "5      2020  "
      ]
     },
     "execution_count": 11,
     "metadata": {},
     "output_type": "execute_result"
    }
   ],
   "source": [
    "df['month'] = pd.to_datetime(df.date).dt.month\n",
    "df['year'] = pd.to_datetime(df.date).dt.year\n",
    "\n",
    "df.head()"
   ]
  },
  {
   "cell_type": "markdown",
   "id": "5c2afd1d",
   "metadata": {},
   "source": [
    "#### Determining the NaN ***value counts*** in all the columns"
   ]
  },
  {
   "cell_type": "code",
   "execution_count": 12,
   "id": "e378df1d",
   "metadata": {},
   "outputs": [
    {
     "data": {
      "text/html": [
       "<div>\n",
       "<style scoped>\n",
       "    .dataframe tbody tr th:only-of-type {\n",
       "        vertical-align: middle;\n",
       "    }\n",
       "\n",
       "    .dataframe tbody tr th {\n",
       "        vertical-align: top;\n",
       "    }\n",
       "\n",
       "    .dataframe thead th {\n",
       "        text-align: right;\n",
       "    }\n",
       "</style>\n",
       "<table border=\"1\" class=\"dataframe\">\n",
       "  <thead>\n",
       "    <tr style=\"text-align: right;\">\n",
       "      <th></th>\n",
       "      <th>date</th>\n",
       "      <th>startup</th>\n",
       "      <th>vertical</th>\n",
       "      <th>subvertical</th>\n",
       "      <th>city</th>\n",
       "      <th>investors</th>\n",
       "      <th>round</th>\n",
       "      <th>amount</th>\n",
       "      <th>month</th>\n",
       "      <th>year</th>\n",
       "    </tr>\n",
       "  </thead>\n",
       "  <tbody>\n",
       "    <tr>\n",
       "      <th>False</th>\n",
       "      <td>3044.0</td>\n",
       "      <td>3044.0</td>\n",
       "      <td>2873</td>\n",
       "      <td>2108</td>\n",
       "      <td>2864</td>\n",
       "      <td>3020</td>\n",
       "      <td>3040</td>\n",
       "      <td>2084</td>\n",
       "      <td>3044.0</td>\n",
       "      <td>3044.0</td>\n",
       "    </tr>\n",
       "    <tr>\n",
       "      <th>True</th>\n",
       "      <td>NaN</td>\n",
       "      <td>NaN</td>\n",
       "      <td>171</td>\n",
       "      <td>936</td>\n",
       "      <td>180</td>\n",
       "      <td>24</td>\n",
       "      <td>4</td>\n",
       "      <td>960</td>\n",
       "      <td>NaN</td>\n",
       "      <td>NaN</td>\n",
       "    </tr>\n",
       "  </tbody>\n",
       "</table>\n",
       "</div>"
      ],
      "text/plain": [
       "         date  startup  vertical  subvertical  city  investors  round  amount  \\\n",
       "False  3044.0   3044.0      2873         2108  2864       3020   3040    2084   \n",
       "True      NaN      NaN       171          936   180         24      4     960   \n",
       "\n",
       "        month    year  \n",
       "False  3044.0  3044.0  \n",
       "True      NaN     NaN  "
      ]
     },
     "execution_count": 12,
     "metadata": {},
     "output_type": "execute_result"
    }
   ],
   "source": [
    "result = df.apply(lambda x: x.isna().value_counts())\n",
    "result"
   ]
  },
  {
   "cell_type": "markdown",
   "id": "0b6b0aa5",
   "metadata": {},
   "source": [
    "### Removing the NaN values"
   ]
  },
  {
   "cell_type": "code",
   "execution_count": 13,
   "id": "040988d9",
   "metadata": {},
   "outputs": [
    {
     "data": {
      "text/html": [
       "<div>\n",
       "<style scoped>\n",
       "    .dataframe tbody tr th:only-of-type {\n",
       "        vertical-align: middle;\n",
       "    }\n",
       "\n",
       "    .dataframe tbody tr th {\n",
       "        vertical-align: top;\n",
       "    }\n",
       "\n",
       "    .dataframe thead th {\n",
       "        text-align: right;\n",
       "    }\n",
       "</style>\n",
       "<table border=\"1\" class=\"dataframe\">\n",
       "  <thead>\n",
       "    <tr style=\"text-align: right;\">\n",
       "      <th></th>\n",
       "      <th>date</th>\n",
       "      <th>startup</th>\n",
       "      <th>vertical</th>\n",
       "      <th>subvertical</th>\n",
       "      <th>city</th>\n",
       "      <th>investors</th>\n",
       "      <th>round</th>\n",
       "      <th>amount</th>\n",
       "      <th>month</th>\n",
       "      <th>year</th>\n",
       "    </tr>\n",
       "    <tr>\n",
       "      <th>Sr No</th>\n",
       "      <th></th>\n",
       "      <th></th>\n",
       "      <th></th>\n",
       "      <th></th>\n",
       "      <th></th>\n",
       "      <th></th>\n",
       "      <th></th>\n",
       "      <th></th>\n",
       "      <th></th>\n",
       "      <th></th>\n",
       "    </tr>\n",
       "  </thead>\n",
       "  <tbody>\n",
       "    <tr>\n",
       "      <th>1</th>\n",
       "      <td>2020-09-01</td>\n",
       "      <td>BYJU’S</td>\n",
       "      <td>E-Tech</td>\n",
       "      <td>E-learning</td>\n",
       "      <td>Bengaluru</td>\n",
       "      <td>Tiger Global Management</td>\n",
       "      <td>Private Equity Round</td>\n",
       "      <td>0.000000</td>\n",
       "      <td>9</td>\n",
       "      <td>2020</td>\n",
       "    </tr>\n",
       "    <tr>\n",
       "      <th>2</th>\n",
       "      <td>2020-01-13</td>\n",
       "      <td>Shuttl</td>\n",
       "      <td>Transportation</td>\n",
       "      <td>App based shuttle service</td>\n",
       "      <td>Gurgaon</td>\n",
       "      <td>Susquehanna Growth Equity</td>\n",
       "      <td>Series C</td>\n",
       "      <td>66.938493</td>\n",
       "      <td>1</td>\n",
       "      <td>2020</td>\n",
       "    </tr>\n",
       "    <tr>\n",
       "      <th>3</th>\n",
       "      <td>2020-09-01</td>\n",
       "      <td>Mamaearth</td>\n",
       "      <td>E-commerce</td>\n",
       "      <td>Retailer of baby and toddler products</td>\n",
       "      <td>Bengaluru</td>\n",
       "      <td>Sequoia Capital India</td>\n",
       "      <td>Series B</td>\n",
       "      <td>152.690639</td>\n",
       "      <td>9</td>\n",
       "      <td>2020</td>\n",
       "    </tr>\n",
       "    <tr>\n",
       "      <th>4</th>\n",
       "      <td>2020-01-01</td>\n",
       "      <td>Wealth Bucket</td>\n",
       "      <td>FinTech</td>\n",
       "      <td>Online Investment</td>\n",
       "      <td>New Delhi</td>\n",
       "      <td>Vinod Khatumal</td>\n",
       "      <td>Pre-series A</td>\n",
       "      <td>24.951000</td>\n",
       "      <td>1</td>\n",
       "      <td>2020</td>\n",
       "    </tr>\n",
       "    <tr>\n",
       "      <th>5</th>\n",
       "      <td>2020-01-01</td>\n",
       "      <td>Fashor</td>\n",
       "      <td>Fashion and Apparel</td>\n",
       "      <td>Embroiled Clothes For Women</td>\n",
       "      <td>Mumbai</td>\n",
       "      <td>Sprout Venture Partners</td>\n",
       "      <td>Seed Round</td>\n",
       "      <td>14.970600</td>\n",
       "      <td>1</td>\n",
       "      <td>2020</td>\n",
       "    </tr>\n",
       "    <tr>\n",
       "      <th>...</th>\n",
       "      <td>...</td>\n",
       "      <td>...</td>\n",
       "      <td>...</td>\n",
       "      <td>...</td>\n",
       "      <td>...</td>\n",
       "      <td>...</td>\n",
       "      <td>...</td>\n",
       "      <td>...</td>\n",
       "      <td>...</td>\n",
       "      <td>...</td>\n",
       "    </tr>\n",
       "    <tr>\n",
       "      <th>2868</th>\n",
       "      <td>2015-09-04</td>\n",
       "      <td>Icertis</td>\n",
       "      <td>Cloud Enterprise Software</td>\n",
       "      <td>NaN</td>\n",
       "      <td>Pune / US</td>\n",
       "      <td>Greycroft Partners, Fidelity Growth Partners</td>\n",
       "      <td>Private Equity</td>\n",
       "      <td>49.902000</td>\n",
       "      <td>9</td>\n",
       "      <td>2015</td>\n",
       "    </tr>\n",
       "    <tr>\n",
       "      <th>2869</th>\n",
       "      <td>2015-09-04</td>\n",
       "      <td>Tracxn</td>\n",
       "      <td>Startup Analytics platform</td>\n",
       "      <td>NaN</td>\n",
       "      <td>Bangalore</td>\n",
       "      <td>SAIF Partners</td>\n",
       "      <td>Private Equity</td>\n",
       "      <td>29.109500</td>\n",
       "      <td>9</td>\n",
       "      <td>2015</td>\n",
       "    </tr>\n",
       "    <tr>\n",
       "      <th>2871</th>\n",
       "      <td>2015-09-04</td>\n",
       "      <td>Tradelab</td>\n",
       "      <td>Financial Markets Software</td>\n",
       "      <td>NaN</td>\n",
       "      <td>Bangalore</td>\n",
       "      <td>Rainmatter</td>\n",
       "      <td>Seed Funding</td>\n",
       "      <td>3.326800</td>\n",
       "      <td>9</td>\n",
       "      <td>2015</td>\n",
       "    </tr>\n",
       "    <tr>\n",
       "      <th>2872</th>\n",
       "      <td>2015-09-04</td>\n",
       "      <td>PiQub</td>\n",
       "      <td>Hiring Analytics platform</td>\n",
       "      <td>NaN</td>\n",
       "      <td>Chennai</td>\n",
       "      <td>The HR Fund</td>\n",
       "      <td>Seed Funding</td>\n",
       "      <td>4.158500</td>\n",
       "      <td>9</td>\n",
       "      <td>2015</td>\n",
       "    </tr>\n",
       "    <tr>\n",
       "      <th>2873</th>\n",
       "      <td>2015-09-04</td>\n",
       "      <td>Travel Triangl</td>\n",
       "      <td>Online Travel Marketplace</td>\n",
       "      <td>NaN</td>\n",
       "      <td>Noida</td>\n",
       "      <td>Bessemer Venture Partners, SAIF Partners</td>\n",
       "      <td>Private Equity</td>\n",
       "      <td>66.536000</td>\n",
       "      <td>9</td>\n",
       "      <td>2015</td>\n",
       "    </tr>\n",
       "  </tbody>\n",
       "</table>\n",
       "<p>1926 rows × 10 columns</p>\n",
       "</div>"
      ],
      "text/plain": [
       "            date         startup                    vertical  \\\n",
       "Sr No                                                          \n",
       "1     2020-09-01          BYJU’S                      E-Tech   \n",
       "2     2020-01-13          Shuttl              Transportation   \n",
       "3     2020-09-01       Mamaearth                  E-commerce   \n",
       "4     2020-01-01   Wealth Bucket                     FinTech   \n",
       "5     2020-01-01          Fashor         Fashion and Apparel   \n",
       "...          ...             ...                         ...   \n",
       "2868  2015-09-04         Icertis   Cloud Enterprise Software   \n",
       "2869  2015-09-04          Tracxn  Startup Analytics platform   \n",
       "2871  2015-09-04        Tradelab  Financial Markets Software   \n",
       "2872  2015-09-04           PiQub   Hiring Analytics platform   \n",
       "2873  2015-09-04  Travel Triangl   Online Travel Marketplace   \n",
       "\n",
       "                                 subvertical       city  \\\n",
       "Sr No                                                     \n",
       "1                                 E-learning  Bengaluru   \n",
       "2                  App based shuttle service    Gurgaon   \n",
       "3      Retailer of baby and toddler products  Bengaluru   \n",
       "4                          Online Investment  New Delhi   \n",
       "5                Embroiled Clothes For Women     Mumbai   \n",
       "...                                      ...        ...   \n",
       "2868                                     NaN  Pune / US   \n",
       "2869                                     NaN  Bangalore   \n",
       "2871                                     NaN  Bangalore   \n",
       "2872                                     NaN    Chennai   \n",
       "2873                                     NaN      Noida   \n",
       "\n",
       "                                          investors                 round  \\\n",
       "Sr No                                                                       \n",
       "1                           Tiger Global Management  Private Equity Round   \n",
       "2                         Susquehanna Growth Equity              Series C   \n",
       "3                             Sequoia Capital India              Series B   \n",
       "4                                    Vinod Khatumal          Pre-series A   \n",
       "5                           Sprout Venture Partners            Seed Round   \n",
       "...                                             ...                   ...   \n",
       "2868   Greycroft Partners, Fidelity Growth Partners        Private Equity   \n",
       "2869                                  SAIF Partners        Private Equity   \n",
       "2871                                     Rainmatter          Seed Funding   \n",
       "2872                                    The HR Fund          Seed Funding   \n",
       "2873       Bessemer Venture Partners, SAIF Partners        Private Equity   \n",
       "\n",
       "           amount  month  year  \n",
       "Sr No                           \n",
       "1        0.000000      9  2020  \n",
       "2       66.938493      1  2020  \n",
       "3      152.690639      9  2020  \n",
       "4       24.951000      1  2020  \n",
       "5       14.970600      1  2020  \n",
       "...           ...    ...   ...  \n",
       "2868    49.902000      9  2015  \n",
       "2869    29.109500      9  2015  \n",
       "2871     3.326800      9  2015  \n",
       "2872     4.158500      9  2015  \n",
       "2873    66.536000      9  2015  \n",
       "\n",
       "[1926 rows x 10 columns]"
      ]
     },
     "execution_count": 13,
     "metadata": {},
     "output_type": "execute_result"
    }
   ],
   "source": [
    "# rem = [col for col in result.columns if result[col].iloc[1].dtype != np.float64]\n",
    "# df = df.dropna(subset=rem)\n",
    "\n",
    "df = df.dropna(subset=['date', 'startup', 'vertical',\n",
    "               'city', 'investors', 'round', 'amount'])\n",
    "\n",
    "df"
   ]
  },
  {
   "cell_type": "markdown",
   "id": "cc4a6a39",
   "metadata": {},
   "source": [
    "### Finding Investors"
   ]
  },
  {
   "cell_type": "code",
   "execution_count": 14,
   "id": "5b6d9b82",
   "metadata": {},
   "outputs": [
    {
     "name": "stdout",
     "output_type": "stream",
     "text": [
      "Number of investors = 2461\n"
     ]
    }
   ],
   "source": [
    "investors = sorted(set(df['investors'].str.split(',').sum()))\n",
    "\n",
    "print(f\"Number of investors = {len(investors)}\")"
   ]
  },
  {
   "cell_type": "markdown",
   "id": "0901e9c2",
   "metadata": {},
   "source": [
    "### Finding ***Investor Details*** , example - _IDG Ventures_"
   ]
  },
  {
   "cell_type": "code",
   "execution_count": 15,
   "id": "d5909c6c",
   "metadata": {},
   "outputs": [
    {
     "data": {
      "text/html": [
       "<div>\n",
       "<style scoped>\n",
       "    .dataframe tbody tr th:only-of-type {\n",
       "        vertical-align: middle;\n",
       "    }\n",
       "\n",
       "    .dataframe tbody tr th {\n",
       "        vertical-align: top;\n",
       "    }\n",
       "\n",
       "    .dataframe thead th {\n",
       "        text-align: right;\n",
       "    }\n",
       "</style>\n",
       "<table border=\"1\" class=\"dataframe\">\n",
       "  <thead>\n",
       "    <tr style=\"text-align: right;\">\n",
       "      <th></th>\n",
       "      <th>date</th>\n",
       "      <th>startup</th>\n",
       "      <th>vertical</th>\n",
       "      <th>city</th>\n",
       "      <th>round</th>\n",
       "      <th>amount</th>\n",
       "    </tr>\n",
       "    <tr>\n",
       "      <th>Sr No</th>\n",
       "      <th></th>\n",
       "      <th></th>\n",
       "      <th></th>\n",
       "      <th></th>\n",
       "      <th></th>\n",
       "      <th></th>\n",
       "    </tr>\n",
       "  </thead>\n",
       "  <tbody>\n",
       "    <tr>\n",
       "      <th>102</th>\n",
       "      <td>2019-04-13</td>\n",
       "      <td>Tripoto</td>\n",
       "      <td>Social Media</td>\n",
       "      <td>New Delhi</td>\n",
       "      <td>Series B</td>\n",
       "      <td>29.869466</td>\n",
       "    </tr>\n",
       "    <tr>\n",
       "      <th>223</th>\n",
       "      <td>2018-07-30</td>\n",
       "      <td>Cure Fit</td>\n",
       "      <td>Consumer Internet</td>\n",
       "      <td>Bengaluru</td>\n",
       "      <td>Private Equity</td>\n",
       "      <td>998.040000</td>\n",
       "    </tr>\n",
       "    <tr>\n",
       "      <th>259</th>\n",
       "      <td>2018-05-01</td>\n",
       "      <td>Bizongo</td>\n",
       "      <td>Consumer Internet</td>\n",
       "      <td>Mumbai</td>\n",
       "      <td>Private Equity</td>\n",
       "      <td>16.634000</td>\n",
       "    </tr>\n",
       "    <tr>\n",
       "      <th>310</th>\n",
       "      <td>2018-06-04</td>\n",
       "      <td>POPxo</td>\n",
       "      <td>Technology</td>\n",
       "      <td>Delhi</td>\n",
       "      <td>Private Equity</td>\n",
       "      <td>45.743500</td>\n",
       "    </tr>\n",
       "    <tr>\n",
       "      <th>439</th>\n",
       "      <td>2017-07-12</td>\n",
       "      <td>Shakti</td>\n",
       "      <td>Ecommerce</td>\n",
       "      <td>Chennai</td>\n",
       "      <td>Debt Funding</td>\n",
       "      <td>2.495100</td>\n",
       "    </tr>\n",
       "  </tbody>\n",
       "</table>\n",
       "</div>"
      ],
      "text/plain": [
       "            date   startup           vertical       city           round  \\\n",
       "Sr No                                                                      \n",
       "102   2019-04-13   Tripoto       Social Media  New Delhi        Series B   \n",
       "223   2018-07-30  Cure Fit  Consumer Internet  Bengaluru  Private Equity   \n",
       "259   2018-05-01   Bizongo  Consumer Internet     Mumbai  Private Equity   \n",
       "310   2018-06-04     POPxo         Technology      Delhi  Private Equity   \n",
       "439   2017-07-12    Shakti          Ecommerce    Chennai    Debt Funding   \n",
       "\n",
       "           amount  \n",
       "Sr No              \n",
       "102     29.869466  \n",
       "223    998.040000  \n",
       "259     16.634000  \n",
       "310     45.743500  \n",
       "439      2.495100  "
      ]
     },
     "execution_count": 15,
     "metadata": {},
     "output_type": "execute_result"
    }
   ],
   "source": [
    "idgv = df[df['investors'].str.contains('IDG Ventures')]\n",
    "\n",
    "idgv.head()[['date', 'startup', 'vertical', 'city', 'round', 'amount']]"
   ]
  },
  {
   "cell_type": "code",
   "execution_count": 16,
   "id": "aa0fb5b1",
   "metadata": {},
   "outputs": [
    {
     "data": {
      "text/plain": [
       "startup\n",
       "Cure Fit                 998.040000\n",
       "Lenskart                 499.020000\n",
       "Curefit                  124.755000\n",
       "Fintelli                 124.755000\n",
       "Xpressbees               103.962500\n",
       "FirstCry                  83.170000\n",
       "POPxo                     71.526200\n",
       "Uniphor                   56.555600\n",
       "CloudCherry               49.902000\n",
       "HealthifyM                49.902000\n",
       "Sigtupl                   48.238600\n",
       "Flyrob                    44.080100\n",
       "RentMojo                  41.585000\n",
       "Aasaanjobs                41.585000\n",
       "CureFit                   41.585000\n",
       "Bizongo                   41.585000\n",
       "Vayana                    33.268000\n",
       "Agrostar                  33.268000\n",
       "PlaySimpl                 33.268000\n",
       "Blowhorn                  30.357050\n",
       "Tripoto                   29.869466\n",
       "Active.ai                 24.951000\n",
       "mPaani                    11.227950\n",
       "Hansel.io                 11.227950\n",
       "Little Black Book          8.317000\n",
       "Pluss                      8.317000\n",
       "Hevo Data                  8.317000\n",
       "Cloudcherry Analytics      8.317000\n",
       "CityFlo                    6.237750\n",
       "Heckyl                     5.821900\n",
       "Infisecur                  4.990200\n",
       "CreditMantri               4.158500\n",
       "Shakti                     2.495100\n",
       "RentoMojo                  0.000000\n",
       "Zimmber                    0.000000\n",
       "Name: amount, dtype: float64"
      ]
     },
     "execution_count": 16,
     "metadata": {},
     "output_type": "execute_result"
    }
   ],
   "source": [
    "idgv.groupby('startup')['amount'].sum().sort_values(ascending=False)"
   ]
  },
  {
   "cell_type": "markdown",
   "id": "15eca32c",
   "metadata": {},
   "source": [
    "#### Sectors of investment"
   ]
  },
  {
   "cell_type": "code",
   "execution_count": 17,
   "id": "a7a36541",
   "metadata": {},
   "outputs": [
    {
     "data": {
      "image/png": "[encoded data removed]",
      "text/plain": [
       "<Figure size 640x480 with 1 Axes>"
      ]
     },
     "metadata": {},
     "output_type": "display_data"
    }
   ],
   "source": [
    "idgv.groupby('vertical')['amount'].sum().plot(kind='pie', fontsize=8)\n",
    "\n",
    "plt.title('Sectors of investment')\n",
    "plt.show()"
   ]
  },
  {
   "cell_type": "markdown",
   "id": "79a2a4d8",
   "metadata": {},
   "source": [
    "#### Stages of Investment"
   ]
  },
  {
   "cell_type": "code",
   "execution_count": 18,
   "id": "540178ab",
   "metadata": {},
   "outputs": [
    {
     "data": {
      "image/png": "[encoded data removed]",
      "text/plain": [
       "<Figure size 640x480 with 1 Axes>"
      ]
     },
     "metadata": {},
     "output_type": "display_data"
    }
   ],
   "source": [
    "idgv.groupby('round')['amount'].sum().plot(kind='pie', fontsize=8)\n",
    "\n",
    "plt.title('Stages of investment')\n",
    "plt.show()"
   ]
  },
  {
   "cell_type": "markdown",
   "id": "0a7f8320",
   "metadata": {},
   "source": [
    "### Amoount invested per _city_"
   ]
  },
  {
   "cell_type": "code",
   "execution_count": 19,
   "id": "2448e43e",
   "metadata": {},
   "outputs": [
    {
     "data": {
      "image/png": "[encoded data removed]",
      "text/plain": [
       "<Figure size 640x480 with 1 Axes>"
      ]
     },
     "metadata": {},
     "output_type": "display_data"
    }
   ],
   "source": [
    "idgv.groupby('city')['amount'].sum().plot(kind='pie', fontsize=8)\n",
    "\n",
    "plt.title('City-wise investment')\n",
    "plt.show()"
   ]
  },
  {
   "cell_type": "markdown",
   "id": "22a9e8e9",
   "metadata": {},
   "source": [
    "### Amount invested by _year_"
   ]
  },
  {
   "cell_type": "code",
   "execution_count": 20,
   "id": "9c8724a8",
   "metadata": {},
   "outputs": [
    {
     "data": {
      "image/png": "[encoded data removed]",
      "text/plain": [
       "<Figure size 640x480 with 1 Axes>"
      ]
     },
     "metadata": {},
     "output_type": "display_data"
    }
   ],
   "source": [
    "df['year'] = df['year'].astype(int)\n",
    "ax = idgv.groupby('year')['amount'].sum().plot(fontsize=8)\n",
    "\n",
    "ax.set_xticks(df['year'].unique())\n",
    "\n",
    "plt.title('Yearly investment')\n",
    "plt.show()"
   ]
  },
  {
   "cell_type": "markdown",
   "id": "9e557956",
   "metadata": {},
   "source": [
    "## **General Analysis**\n",
    "\n",
    "### _Amount invested in Indian startups_"
   ]
  },
  {
   "cell_type": "code",
   "execution_count": 21,
   "id": "203502ea",
   "metadata": {},
   "outputs": [
    {
     "name": "stdout",
     "output_type": "stream",
     "text": [
      "Maximum amount invested = 32436.3\n"
     ]
    },
    {
     "data": {
      "text/plain": [
       "1573"
      ]
     },
     "execution_count": 21,
     "metadata": {},
     "output_type": "execute_result"
    }
   ],
   "source": [
    "print(f\"Maximum amount invested = {df.amount.max()}\")\n",
    "df['startup'].nunique()"
   ]
  },
  {
   "cell_type": "code",
   "execution_count": 22,
   "id": "641a7397",
   "metadata": {},
   "outputs": [],
   "source": [
    "mean = df.groupby('startup')['amount'].sum().mean()\n",
    "\n",
    "df['month'] = pd.to_datetime(df.date).dt.month_name()"
   ]
  },
  {
   "cell_type": "markdown",
   "id": "bf8ac84a",
   "metadata": {},
   "source": [
    "### Year and Month-wise **number of fundings**"
   ]
  },
  {
   "cell_type": "code",
   "execution_count": 23,
   "id": "ec97d16b",
   "metadata": {},
   "outputs": [
    {
     "data": {
      "text/html": [
       "<div>\n",
       "<style scoped>\n",
       "    .dataframe tbody tr th:only-of-type {\n",
       "        vertical-align: middle;\n",
       "    }\n",
       "\n",
       "    .dataframe tbody tr th {\n",
       "        vertical-align: top;\n",
       "    }\n",
       "\n",
       "    .dataframe thead th {\n",
       "        text-align: right;\n",
       "    }\n",
       "</style>\n",
       "<table border=\"1\" class=\"dataframe\">\n",
       "  <thead>\n",
       "    <tr style=\"text-align: right;\">\n",
       "      <th></th>\n",
       "      <th>year</th>\n",
       "      <th>month</th>\n",
       "      <th>startup</th>\n",
       "    </tr>\n",
       "  </thead>\n",
       "  <tbody>\n",
       "    <tr>\n",
       "      <th>0</th>\n",
       "      <td>2015</td>\n",
       "      <td>April</td>\n",
       "      <td>50</td>\n",
       "    </tr>\n",
       "    <tr>\n",
       "      <th>1</th>\n",
       "      <td>2015</td>\n",
       "      <td>August</td>\n",
       "      <td>57</td>\n",
       "    </tr>\n",
       "    <tr>\n",
       "      <th>2</th>\n",
       "      <td>2015</td>\n",
       "      <td>December</td>\n",
       "      <td>28</td>\n",
       "    </tr>\n",
       "    <tr>\n",
       "      <th>3</th>\n",
       "      <td>2015</td>\n",
       "      <td>January</td>\n",
       "      <td>37</td>\n",
       "    </tr>\n",
       "    <tr>\n",
       "      <th>4</th>\n",
       "      <td>2015</td>\n",
       "      <td>July</td>\n",
       "      <td>60</td>\n",
       "    </tr>\n",
       "    <tr>\n",
       "      <th>...</th>\n",
       "      <td>...</td>\n",
       "      <td>...</td>\n",
       "      <td>...</td>\n",
       "    </tr>\n",
       "    <tr>\n",
       "      <th>57</th>\n",
       "      <td>2019</td>\n",
       "      <td>October</td>\n",
       "      <td>11</td>\n",
       "    </tr>\n",
       "    <tr>\n",
       "      <th>58</th>\n",
       "      <td>2019</td>\n",
       "      <td>September</td>\n",
       "      <td>1</td>\n",
       "    </tr>\n",
       "    <tr>\n",
       "      <th>59</th>\n",
       "      <td>2020</td>\n",
       "      <td>January</td>\n",
       "      <td>4</td>\n",
       "    </tr>\n",
       "    <tr>\n",
       "      <th>60</th>\n",
       "      <td>2020</td>\n",
       "      <td>October</td>\n",
       "      <td>1</td>\n",
       "    </tr>\n",
       "    <tr>\n",
       "      <th>61</th>\n",
       "      <td>2020</td>\n",
       "      <td>September</td>\n",
       "      <td>2</td>\n",
       "    </tr>\n",
       "  </tbody>\n",
       "</table>\n",
       "<p>62 rows × 3 columns</p>\n",
       "</div>"
      ],
      "text/plain": [
       "    year      month  startup\n",
       "0   2015      April       50\n",
       "1   2015     August       57\n",
       "2   2015   December       28\n",
       "3   2015    January       37\n",
       "4   2015       July       60\n",
       "..   ...        ...      ...\n",
       "57  2019    October       11\n",
       "58  2019  September        1\n",
       "59  2020    January        4\n",
       "60  2020    October        1\n",
       "61  2020  September        2\n",
       "\n",
       "[62 rows x 3 columns]"
      ]
     },
     "execution_count": 23,
     "metadata": {},
     "output_type": "execute_result"
    }
   ],
   "source": [
    "df.groupby(['year', 'month'])['startup'].count().reset_index()"
   ]
  },
  {
   "cell_type": "markdown",
   "id": "c69cc02c",
   "metadata": {},
   "source": [
    "#### Making the axis-labels"
   ]
  },
  {
   "cell_type": "code",
   "execution_count": 24,
   "id": "504545ac",
   "metadata": {},
   "outputs": [
    {
     "data": {
      "text/html": [
       "<div>\n",
       "<style scoped>\n",
       "    .dataframe tbody tr th:only-of-type {\n",
       "        vertical-align: middle;\n",
       "    }\n",
       "\n",
       "    .dataframe tbody tr th {\n",
       "        vertical-align: top;\n",
       "    }\n",
       "\n",
       "    .dataframe thead th {\n",
       "        text-align: right;\n",
       "    }\n",
       "</style>\n",
       "<table border=\"1\" class=\"dataframe\">\n",
       "  <thead>\n",
       "    <tr style=\"text-align: right;\">\n",
       "      <th></th>\n",
       "      <th>year</th>\n",
       "      <th>month</th>\n",
       "      <th>amount</th>\n",
       "      <th>time</th>\n",
       "    </tr>\n",
       "  </thead>\n",
       "  <tbody>\n",
       "    <tr>\n",
       "      <th>57</th>\n",
       "      <td>2019</td>\n",
       "      <td>October</td>\n",
       "      <td>6492.933691</td>\n",
       "      <td>Oct '19</td>\n",
       "    </tr>\n",
       "    <tr>\n",
       "      <th>58</th>\n",
       "      <td>2019</td>\n",
       "      <td>September</td>\n",
       "      <td>8.317000</td>\n",
       "      <td>Sep '19</td>\n",
       "    </tr>\n",
       "    <tr>\n",
       "      <th>59</th>\n",
       "      <td>2020</td>\n",
       "      <td>January</td>\n",
       "      <td>181.713093</td>\n",
       "      <td>Jan '20</td>\n",
       "    </tr>\n",
       "    <tr>\n",
       "      <th>60</th>\n",
       "      <td>2020</td>\n",
       "      <td>October</td>\n",
       "      <td>1247.550000</td>\n",
       "      <td>Oct '20</td>\n",
       "    </tr>\n",
       "    <tr>\n",
       "      <th>61</th>\n",
       "      <td>2020</td>\n",
       "      <td>September</td>\n",
       "      <td>152.690639</td>\n",
       "      <td>Sep '20</td>\n",
       "    </tr>\n",
       "  </tbody>\n",
       "</table>\n",
       "</div>"
      ],
      "text/plain": [
       "    year      month       amount     time\n",
       "57  2019    October  6492.933691  Oct '19\n",
       "58  2019  September     8.317000  Sep '19\n",
       "59  2020    January   181.713093  Jan '20\n",
       "60  2020    October  1247.550000  Oct '20\n",
       "61  2020  September   152.690639  Sep '20"
      ]
     },
     "execution_count": 24,
     "metadata": {},
     "output_type": "execute_result"
    }
   ],
   "source": [
    "temp_df = df.groupby(['year', 'month'])['amount'].sum().reset_index()\n",
    "\n",
    "for i in range(temp_df.shape[0]):\n",
    "    temp_df.at[i, 'time'] = f\"{temp_df.at[i, 'month'][:3]} '{temp_df.at[i, 'year'] - 2000}\"\n",
    "\n",
    "temp_df.tail()"
   ]
  },
  {
   "cell_type": "code",
   "execution_count": 25,
   "id": "8283647c",
   "metadata": {},
   "outputs": [
    {
     "data": {
      "text/html": [
       "<div>\n",
       "<style scoped>\n",
       "    .dataframe tbody tr th:only-of-type {\n",
       "        vertical-align: middle;\n",
       "    }\n",
       "\n",
       "    .dataframe tbody tr th {\n",
       "        vertical-align: top;\n",
       "    }\n",
       "\n",
       "    .dataframe thead th {\n",
       "        text-align: right;\n",
       "    }\n",
       "</style>\n",
       "<table border=\"1\" class=\"dataframe\">\n",
       "  <thead>\n",
       "    <tr style=\"text-align: right;\">\n",
       "      <th></th>\n",
       "      <th>amount</th>\n",
       "    </tr>\n",
       "    <tr>\n",
       "      <th>time</th>\n",
       "      <th></th>\n",
       "    </tr>\n",
       "  </thead>\n",
       "  <tbody>\n",
       "    <tr>\n",
       "      <th>Apr '15</th>\n",
       "      <td>3823.724116</td>\n",
       "    </tr>\n",
       "    <tr>\n",
       "      <th>Aug '15</th>\n",
       "      <td>12839.543407</td>\n",
       "    </tr>\n",
       "    <tr>\n",
       "      <th>Dec '15</th>\n",
       "      <td>1172.364320</td>\n",
       "    </tr>\n",
       "    <tr>\n",
       "      <th>Jan '15</th>\n",
       "      <td>5728.416920</td>\n",
       "    </tr>\n",
       "    <tr>\n",
       "      <th>Jul '15</th>\n",
       "      <td>4889.098548</td>\n",
       "    </tr>\n",
       "    <tr>\n",
       "      <th>...</th>\n",
       "      <td>...</td>\n",
       "    </tr>\n",
       "    <tr>\n",
       "      <th>Oct '19</th>\n",
       "      <td>6492.933691</td>\n",
       "    </tr>\n",
       "    <tr>\n",
       "      <th>Sep '19</th>\n",
       "      <td>8.317000</td>\n",
       "    </tr>\n",
       "    <tr>\n",
       "      <th>Jan '20</th>\n",
       "      <td>181.713093</td>\n",
       "    </tr>\n",
       "    <tr>\n",
       "      <th>Oct '20</th>\n",
       "      <td>1247.550000</td>\n",
       "    </tr>\n",
       "    <tr>\n",
       "      <th>Sep '20</th>\n",
       "      <td>152.690639</td>\n",
       "    </tr>\n",
       "  </tbody>\n",
       "</table>\n",
       "<p>62 rows × 1 columns</p>\n",
       "</div>"
      ],
      "text/plain": [
       "               amount\n",
       "time                 \n",
       "Apr '15   3823.724116\n",
       "Aug '15  12839.543407\n",
       "Dec '15   1172.364320\n",
       "Jan '15   5728.416920\n",
       "Jul '15   4889.098548\n",
       "...               ...\n",
       "Oct '19   6492.933691\n",
       "Sep '19      8.317000\n",
       "Jan '20    181.713093\n",
       "Oct '20   1247.550000\n",
       "Sep '20    152.690639\n",
       "\n",
       "[62 rows x 1 columns]"
      ]
     },
     "execution_count": 25,
     "metadata": {},
     "output_type": "execute_result"
    }
   ],
   "source": [
    "temp_df.drop(columns=['year', 'month'], inplace=True)\n",
    "temp_df.set_index('time', inplace=True)\n",
    "\n",
    "temp_df"
   ]
  },
  {
   "cell_type": "markdown",
   "id": "09aa2e6e",
   "metadata": {},
   "source": [
    "### ___Tests___\n",
    "\n",
    "#### _Overall Analysis Metrics_"
   ]
  },
  {
   "cell_type": "code",
   "execution_count": 26,
   "id": "e7b84998",
   "metadata": {},
   "outputs": [
    {
     "name": "stdout",
     "output_type": "stream",
     "text": [
      "Overall Analysis metrics :\n",
      "Total amount invested = 2Cr\n",
      "Maximum Funding = 3Cr\n",
      "Average Funding = 2Cr\n"
     ]
    }
   ],
   "source": [
    "sdf = df.groupby('startup').amount\n",
    "\n",
    "total = round(df.amount.sum() / 100000)\n",
    "\n",
    "max = round(sdf.max().sort_values(ascending=False).head(1).values[0] / 10000)\n",
    "\n",
    "mean = round(sdf.sum().mean() / 100)\n",
    "\n",
    "print(f\"Overall Analysis metrics :\\nTotal amount invested = {total}Cr\\nMaximum Funding = {max}Cr\\nAverage Funding = {mean}Cr\")"
   ]
  },
  {
   "cell_type": "markdown",
   "id": "8b7e3fff",
   "metadata": {},
   "source": [
    "#### _Month on Month **Graphs**_"
   ]
  },
  {
   "cell_type": "markdown",
   "id": "3f85b9d0",
   "metadata": {},
   "source": [
    "##### 1. Total Investment"
   ]
  },
  {
   "cell_type": "code",
   "execution_count": 27,
   "id": "c45117bc",
   "metadata": {},
   "outputs": [
    {
     "data": {
      "text/html": [
       "<div>\n",
       "<style scoped>\n",
       "    .dataframe tbody tr th:only-of-type {\n",
       "        vertical-align: middle;\n",
       "    }\n",
       "\n",
       "    .dataframe tbody tr th {\n",
       "        vertical-align: top;\n",
       "    }\n",
       "\n",
       "    .dataframe thead th {\n",
       "        text-align: right;\n",
       "    }\n",
       "</style>\n",
       "<table border=\"1\" class=\"dataframe\">\n",
       "  <thead>\n",
       "    <tr style=\"text-align: right;\">\n",
       "      <th></th>\n",
       "      <th>Amount (in Cr.)</th>\n",
       "      <th>Month</th>\n",
       "    </tr>\n",
       "  </thead>\n",
       "  <tbody>\n",
       "    <tr>\n",
       "      <th>0</th>\n",
       "      <td>0.382372</td>\n",
       "      <td>Apr '15</td>\n",
       "    </tr>\n",
       "    <tr>\n",
       "      <th>1</th>\n",
       "      <td>1.283954</td>\n",
       "      <td>Aug '15</td>\n",
       "    </tr>\n",
       "    <tr>\n",
       "      <th>2</th>\n",
       "      <td>0.117236</td>\n",
       "      <td>Dec '15</td>\n",
       "    </tr>\n",
       "    <tr>\n",
       "      <th>3</th>\n",
       "      <td>0.572842</td>\n",
       "      <td>Jan '15</td>\n",
       "    </tr>\n",
       "    <tr>\n",
       "      <th>4</th>\n",
       "      <td>0.488910</td>\n",
       "      <td>Jul '15</td>\n",
       "    </tr>\n",
       "    <tr>\n",
       "      <th>...</th>\n",
       "      <td>...</td>\n",
       "      <td>...</td>\n",
       "    </tr>\n",
       "    <tr>\n",
       "      <th>57</th>\n",
       "      <td>0.649293</td>\n",
       "      <td>Oct '19</td>\n",
       "    </tr>\n",
       "    <tr>\n",
       "      <th>58</th>\n",
       "      <td>0.000832</td>\n",
       "      <td>Sep '19</td>\n",
       "    </tr>\n",
       "    <tr>\n",
       "      <th>59</th>\n",
       "      <td>0.018171</td>\n",
       "      <td>Jan '20</td>\n",
       "    </tr>\n",
       "    <tr>\n",
       "      <th>60</th>\n",
       "      <td>0.124755</td>\n",
       "      <td>Oct '20</td>\n",
       "    </tr>\n",
       "    <tr>\n",
       "      <th>61</th>\n",
       "      <td>0.015269</td>\n",
       "      <td>Sep '20</td>\n",
       "    </tr>\n",
       "  </tbody>\n",
       "</table>\n",
       "<p>62 rows × 2 columns</p>\n",
       "</div>"
      ],
      "text/plain": [
       "    Amount (in Cr.)    Month\n",
       "0          0.382372  Apr '15\n",
       "1          1.283954  Aug '15\n",
       "2          0.117236  Dec '15\n",
       "3          0.572842  Jan '15\n",
       "4          0.488910  Jul '15\n",
       "..              ...      ...\n",
       "57         0.649293  Oct '19\n",
       "58         0.000832  Sep '19\n",
       "59         0.018171  Jan '20\n",
       "60         0.124755  Oct '20\n",
       "61         0.015269  Sep '20\n",
       "\n",
       "[62 rows x 2 columns]"
      ]
     },
     "execution_count": 27,
     "metadata": {},
     "output_type": "execute_result"
    }
   ],
   "source": [
    "tdf = df.groupby(['year', 'month'])['amount'].sum().reset_index()\n",
    "tdf.amount = tdf.amount / 10000\n",
    "tdf.rename(columns={'amount': 'Amount (in Cr.)'}, inplace=True)\n",
    "for i in range(tdf.shape[0]):\n",
    "    tdf.at[i,\n",
    "           'Month'] = f\"{tdf.at[i, 'month'][:3]} '{tdf.at[i, 'year'] - 2000}\"\n",
    "tdf.drop(columns=['year', 'month'], inplace=True)\n",
    "\n",
    "tdf"
   ]
  },
  {
   "cell_type": "code",
   "execution_count": 28,
   "id": "c81d4a5a",
   "metadata": {},
   "outputs": [
    {
     "data": {
      "image/png": "[encoded data removed]",
      "text/plain": [
       "<Figure size 640x480 with 1 Axes>"
      ]
     },
     "metadata": {},
     "output_type": "display_data"
    }
   ],
   "source": [
    "tdf.plot(y='Amount (in Cr.)', x='Month')\n",
    "plt.title('Month on Month - Total Investment')\n",
    "plt.show()"
   ]
  },
  {
   "cell_type": "markdown",
   "id": "da56a0a2",
   "metadata": {},
   "source": [
    "#### 2. Investment Count"
   ]
  },
  {
   "cell_type": "code",
   "execution_count": 29,
   "id": "f4eb243d",
   "metadata": {},
   "outputs": [
    {
     "data": {
      "text/html": [
       "<div>\n",
       "<style scoped>\n",
       "    .dataframe tbody tr th:only-of-type {\n",
       "        vertical-align: middle;\n",
       "    }\n",
       "\n",
       "    .dataframe tbody tr th {\n",
       "        vertical-align: top;\n",
       "    }\n",
       "\n",
       "    .dataframe thead th {\n",
       "        text-align: right;\n",
       "    }\n",
       "</style>\n",
       "<table border=\"1\" class=\"dataframe\">\n",
       "  <thead>\n",
       "    <tr style=\"text-align: right;\">\n",
       "      <th></th>\n",
       "      <th>No. of Investments</th>\n",
       "      <th>Month</th>\n",
       "    </tr>\n",
       "  </thead>\n",
       "  <tbody>\n",
       "    <tr>\n",
       "      <th>0</th>\n",
       "      <td>50</td>\n",
       "      <td>Apr '15</td>\n",
       "    </tr>\n",
       "    <tr>\n",
       "      <th>1</th>\n",
       "      <td>57</td>\n",
       "      <td>Aug '15</td>\n",
       "    </tr>\n",
       "    <tr>\n",
       "      <th>2</th>\n",
       "      <td>28</td>\n",
       "      <td>Dec '15</td>\n",
       "    </tr>\n",
       "    <tr>\n",
       "      <th>3</th>\n",
       "      <td>37</td>\n",
       "      <td>Jan '15</td>\n",
       "    </tr>\n",
       "    <tr>\n",
       "      <th>4</th>\n",
       "      <td>60</td>\n",
       "      <td>Jul '15</td>\n",
       "    </tr>\n",
       "    <tr>\n",
       "      <th>...</th>\n",
       "      <td>...</td>\n",
       "      <td>...</td>\n",
       "    </tr>\n",
       "    <tr>\n",
       "      <th>57</th>\n",
       "      <td>11</td>\n",
       "      <td>Oct '19</td>\n",
       "    </tr>\n",
       "    <tr>\n",
       "      <th>58</th>\n",
       "      <td>1</td>\n",
       "      <td>Sep '19</td>\n",
       "    </tr>\n",
       "    <tr>\n",
       "      <th>59</th>\n",
       "      <td>4</td>\n",
       "      <td>Jan '20</td>\n",
       "    </tr>\n",
       "    <tr>\n",
       "      <th>60</th>\n",
       "      <td>1</td>\n",
       "      <td>Oct '20</td>\n",
       "    </tr>\n",
       "    <tr>\n",
       "      <th>61</th>\n",
       "      <td>2</td>\n",
       "      <td>Sep '20</td>\n",
       "    </tr>\n",
       "  </tbody>\n",
       "</table>\n",
       "<p>62 rows × 2 columns</p>\n",
       "</div>"
      ],
      "text/plain": [
       "    No. of Investments    Month\n",
       "0                   50  Apr '15\n",
       "1                   57  Aug '15\n",
       "2                   28  Dec '15\n",
       "3                   37  Jan '15\n",
       "4                   60  Jul '15\n",
       "..                 ...      ...\n",
       "57                  11  Oct '19\n",
       "58                   1  Sep '19\n",
       "59                   4  Jan '20\n",
       "60                   1  Oct '20\n",
       "61                   2  Sep '20\n",
       "\n",
       "[62 rows x 2 columns]"
      ]
     },
     "execution_count": 29,
     "metadata": {},
     "output_type": "execute_result"
    }
   ],
   "source": [
    "tdf2 = df.groupby(['year', 'month'])['amount'].count().reset_index()\n",
    "tdf2.rename(columns={'amount': 'No. of Investments'}, inplace=True)\n",
    "for i in range(tdf2.shape[0]):\n",
    "    tdf2.at[i,\n",
    "            'Month'] = f\"{tdf2.at[i, 'month'][:3]} '{tdf2.at[i, 'year'] - 2000}\"\n",
    "tdf2.drop(columns=['year', 'month'], inplace=True)\n",
    "\n",
    "tdf2"
   ]
  },
  {
   "cell_type": "code",
   "execution_count": 30,
   "id": "a09497ee",
   "metadata": {},
   "outputs": [
    {
     "data": {
      "image/png": "[encoded data removed]",
      "text/plain": [
       "<Figure size 640x480 with 1 Axes>"
      ]
     },
     "metadata": {},
     "output_type": "display_data"
    }
   ],
   "source": [
    "tdf2.plot(x='Month', y='No. of Investments')\n",
    "plt.title('Month on Month - No. of Investments')\n",
    "plt.show()"
   ]
  },
  {
   "cell_type": "markdown",
   "id": "e61485d9",
   "metadata": {},
   "source": [
    "#### 3. Top 5 Sectors"
   ]
  },
  {
   "cell_type": "code",
   "execution_count": 31,
   "id": "6e7a42a0",
   "metadata": {},
   "outputs": [
    {
     "data": {
      "application/vnd.plotly.v1+json": {
       "config": {
        "plotlyServerURL": "https://plot.ly"
       },
       "data": [
        {
         "domain": {
          "x": [
           0,
           1
          ],
          "y": [
           0,
           1
          ]
         },
         "hole": 0.4,
         "hovertemplate": "label=%{label}<extra></extra>",
         "labels": [
          "E-Tech",
          "Transportation",
          "E-commerce",
          "FinTech",
          "Fashion and Apparel"
         ],
         "legendgroup": "",
         "name": "",
         "showlegend": true,
         "type": "pie"
        }
       ],
       "layout": {
        "height": 400,
        "legend": {
         "tracegroupgap": 0
        },
        "margin": {
         "t": 60
        },
        "piecolorway": [
         "rgb(54, 14, 36)",
         "rgb(80, 20, 66)",
         "rgb(100, 31, 104)",
         "rgb(113, 50, 141)",
         "rgb(119, 74, 175)",
         "rgb(120, 100, 202)",
         "rgb(117, 127, 221)",
         "rgb(115, 154, 228)",
         "rgb(129, 180, 227)",
         "rgb(156, 201, 226)",
         "rgb(191, 221, 229)",
         "rgb(230, 240, 240)"
        ],
        "template": {
         "data": {
          "bar": [
           {
            "error_x": {
             "color": "#2a3f5f"
            },
            "error_y": {
             "color": "#2a3f5f"
            },
            "marker": {
             "line": {
              "color": "#E5ECF6",
              "width": 0.5
             },
             "pattern": {
              "fillmode": "overlay",
              "size": 10,
              "solidity": 0.2
             }
            },
            "type": "bar"
           }
          ],
          "barpolar": [
           {
            "marker": {
             "line": {
              "color": "#E5ECF6",
              "width": 0.5
             },
             "pattern": {
              "fillmode": "overlay",
              "size": 10,
              "solidity": 0.2
             }
            },
            "type": "barpolar"
           }
          ],
          "carpet": [
           {
            "aaxis": {
             "endlinecolor": "#2a3f5f",
             "gridcolor": "white",
             "linecolor": "white",
             "minorgridcolor": "white",
             "startlinecolor": "#2a3f5f"
            },
            "baxis": {
             "endlinecolor": "#2a3f5f",
             "gridcolor": "white",
             "linecolor": "white",
             "minorgridcolor": "white",
             "startlinecolor": "#2a3f5f"
            },
            "type": "carpet"
           }
          ],
          "choropleth": [
           {
            "colorbar": {
             "outlinewidth": 0,
             "ticks": ""
            },
            "type": "choropleth"
           }
          ],
          "contour": [
           {
            "colorbar": {
             "outlinewidth": 0,
             "ticks": ""
            },
            "colorscale": [
             [
              0,
              "#0d0887"
             ],
             [
              0.1111111111111111,
              "#46039f"
             ],
             [
              0.2222222222222222,
              "#7201a8"
             ],
             [
              0.3333333333333333,
              "#9c179e"
             ],
             [
              0.4444444444444444,
              "#bd3786"
             ],
             [
              0.5555555555555556,
              "#d8576b"
             ],
             [
              0.6666666666666666,
              "#ed7953"
             ],
             [
              0.7777777777777778,
              "#fb9f3a"
             ],
             [
              0.8888888888888888,
              "#fdca26"
             ],
             [
              1,
              "#f0f921"
             ]
            ],
            "type": "contour"
           }
          ],
          "contourcarpet": [
           {
            "colorbar": {
             "outlinewidth": 0,
             "ticks": ""
            },
            "type": "contourcarpet"
           }
          ],
          "heatmap": [
           {
            "colorbar": {
             "outlinewidth": 0,
             "ticks": ""
            },
            "colorscale": [
             [
              0,
              "#0d0887"
             ],
             [
              0.1111111111111111,
              "#46039f"
             ],
             [
              0.2222222222222222,
              "#7201a8"
             ],
             [
              0.3333333333333333,
              "#9c179e"
             ],
             [
              0.4444444444444444,
              "#bd3786"
             ],
             [
              0.5555555555555556,
              "#d8576b"
             ],
             [
              0.6666666666666666,
              "#ed7953"
             ],
             [
              0.7777777777777778,
              "#fb9f3a"
             ],
             [
              0.8888888888888888,
              "#fdca26"
             ],
             [
              1,
              "#f0f921"
             ]
            ],
            "type": "heatmap"
           }
          ],
          "heatmapgl": [
           {
            "colorbar": {
             "outlinewidth": 0,
             "ticks": ""
            },
            "colorscale": [
             [
              0,
              "#0d0887"
             ],
             [
              0.1111111111111111,
              "#46039f"
             ],
             [
              0.2222222222222222,
              "#7201a8"
             ],
             [
              0.3333333333333333,
              "#9c179e"
             ],
             [
              0.4444444444444444,
              "#bd3786"
             ],
             [
              0.5555555555555556,
              "#d8576b"
             ],
             [
              0.6666666666666666,
              "#ed7953"
             ],
             [
              0.7777777777777778,
              "#fb9f3a"
             ],
             [
              0.8888888888888888,
              "#fdca26"
             ],
             [
              1,
              "#f0f921"
             ]
            ],
            "type": "heatmapgl"
           }
          ],
          "histogram": [
           {
            "marker": {
             "pattern": {
              "fillmode": "overlay",
              "size": 10,
              "solidity": 0.2
             }
            },
            "type": "histogram"
           }
          ],
          "histogram2d": [
           {
            "colorbar": {
             "outlinewidth": 0,
             "ticks": ""
            },
            "colorscale": [
             [
              0,
              "#0d0887"
             ],
             [
              0.1111111111111111,
              "#46039f"
             ],
             [
              0.2222222222222222,
              "#7201a8"
             ],
             [
              0.3333333333333333,
              "#9c179e"
             ],
             [
              0.4444444444444444,
              "#bd3786"
             ],
             [
              0.5555555555555556,
              "#d8576b"
             ],
             [
              0.6666666666666666,
              "#ed7953"
             ],
             [
              0.7777777777777778,
              "#fb9f3a"
             ],
             [
              0.8888888888888888,
              "#fdca26"
             ],
             [
              1,
              "#f0f921"
             ]
            ],
            "type": "histogram2d"
           }
          ],
          "histogram2dcontour": [
           {
            "colorbar": {
             "outlinewidth": 0,
             "ticks": ""
            },
            "colorscale": [
             [
              0,
              "#0d0887"
             ],
             [
              0.1111111111111111,
              "#46039f"
             ],
             [
              0.2222222222222222,
              "#7201a8"
             ],
             [
              0.3333333333333333,
              "#9c179e"
             ],
             [
              0.4444444444444444,
              "#bd3786"
             ],
             [
              0.5555555555555556,
              "#d8576b"
             ],
             [
              0.6666666666666666,
              "#ed7953"
             ],
             [
              0.7777777777777778,
              "#fb9f3a"
             ],
             [
              0.8888888888888888,
              "#fdca26"
             ],
             [
              1,
              "#f0f921"
             ]
            ],
            "type": "histogram2dcontour"
           }
          ],
          "mesh3d": [
           {
            "colorbar": {
             "outlinewidth": 0,
             "ticks": ""
            },
            "type": "mesh3d"
           }
          ],
          "parcoords": [
           {
            "line": {
             "colorbar": {
              "outlinewidth": 0,
              "ticks": ""
             }
            },
            "type": "parcoords"
           }
          ],
          "pie": [
           {
            "automargin": true,
            "type": "pie"
           }
          ],
          "scatter": [
           {
            "fillpattern": {
             "fillmode": "overlay",
             "size": 10,
             "solidity": 0.2
            },
            "type": "scatter"
           }
          ],
          "scatter3d": [
           {
            "line": {
             "colorbar": {
              "outlinewidth": 0,
              "ticks": ""
             }
            },
            "marker": {
             "colorbar": {
              "outlinewidth": 0,
              "ticks": ""
             }
            },
            "type": "scatter3d"
           }
          ],
          "scattercarpet": [
           {
            "marker": {
             "colorbar": {
              "outlinewidth": 0,
              "ticks": ""
             }
            },
            "type": "scattercarpet"
           }
          ],
          "scattergeo": [
           {
            "marker": {
             "colorbar": {
              "outlinewidth": 0,
              "ticks": ""
             }
            },
            "type": "scattergeo"
           }
          ],
          "scattergl": [
           {
            "marker": {
             "colorbar": {
              "outlinewidth": 0,
              "ticks": ""
             }
            },
            "type": "scattergl"
           }
          ],
          "scattermapbox": [
           {
            "marker": {
             "colorbar": {
              "outlinewidth": 0,
              "ticks": ""
             }
            },
            "type": "scattermapbox"
           }
          ],
          "scatterpolar": [
           {
            "marker": {
             "colorbar": {
              "outlinewidth": 0,
              "ticks": ""
             }
            },
            "type": "scatterpolar"
           }
          ],
          "scatterpolargl": [
           {
            "marker": {
             "colorbar": {
              "outlinewidth": 0,
              "ticks": ""
             }
            },
            "type": "scatterpolargl"
           }
          ],
          "scatterternary": [
           {
            "marker": {
             "colorbar": {
              "outlinewidth": 0,
              "ticks": ""
             }
            },
            "type": "scatterternary"
           }
          ],
          "surface": [
           {
            "colorbar": {
             "outlinewidth": 0,
             "ticks": ""
            },
            "colorscale": [
             [
              0,
              "#0d0887"
             ],
             [
              0.1111111111111111,
              "#46039f"
             ],
             [
              0.2222222222222222,
              "#7201a8"
             ],
             [
              0.3333333333333333,
              "#9c179e"
             ],
             [
              0.4444444444444444,
              "#bd3786"
             ],
             [
              0.5555555555555556,
              "#d8576b"
             ],
             [
              0.6666666666666666,
              "#ed7953"
             ],
             [
              0.7777777777777778,
              "#fb9f3a"
             ],
             [
              0.8888888888888888,
              "#fdca26"
             ],
             [
              1,
              "#f0f921"
             ]
            ],
            "type": "surface"
           }
          ],
          "table": [
           {
            "cells": {
             "fill": {
              "color": "#EBF0F8"
             },
             "line": {
              "color": "white"
             }
            },
            "header": {
             "fill": {
              "color": "#C8D4E3"
             },
             "line": {
              "color": "white"
             }
            },
            "type": "table"
           }
          ]
         },
         "layout": {
          "annotationdefaults": {
           "arrowcolor": "#2a3f5f",
           "arrowhead": 0,
           "arrowwidth": 1
          },
          "autotypenumbers": "strict",
          "coloraxis": {
           "colorbar": {
            "outlinewidth": 0,
            "ticks": ""
           }
          },
          "colorscale": {
           "diverging": [
            [
             0,
             "#8e0152"
            ],
            [
             0.1,
             "#c51b7d"
            ],
            [
             0.2,
             "#de77ae"
            ],
            [
             0.3,
             "#f1b6da"
            ],
            [
             0.4,
             "#fde0ef"
            ],
            [
             0.5,
             "#f7f7f7"
            ],
            [
             0.6,
             "#e6f5d0"
            ],
            [
             0.7,
             "#b8e186"
            ],
            [
             0.8,
             "#7fbc41"
            ],
            [
             0.9,
             "#4d9221"
            ],
            [
             1,
             "#276419"
            ]
           ],
           "sequential": [
            [
             0,
             "#0d0887"
            ],
            [
             0.1111111111111111,
             "#46039f"
            ],
            [
             0.2222222222222222,
             "#7201a8"
            ],
            [
             0.3333333333333333,
             "#9c179e"
            ],
            [
             0.4444444444444444,
             "#bd3786"
            ],
            [
             0.5555555555555556,
             "#d8576b"
            ],
            [
             0.6666666666666666,
             "#ed7953"
            ],
            [
             0.7777777777777778,
             "#fb9f3a"
            ],
            [
             0.8888888888888888,
             "#fdca26"
            ],
            [
             1,
             "#f0f921"
            ]
           ],
           "sequentialminus": [
            [
             0,
             "#0d0887"
            ],
            [
             0.1111111111111111,
             "#46039f"
            ],
            [
             0.2222222222222222,
             "#7201a8"
            ],
            [
             0.3333333333333333,
             "#9c179e"
            ],
            [
             0.4444444444444444,
             "#bd3786"
            ],
            [
             0.5555555555555556,
             "#d8576b"
            ],
            [
             0.6666666666666666,
             "#ed7953"
            ],
            [
             0.7777777777777778,
             "#fb9f3a"
            ],
            [
             0.8888888888888888,
             "#fdca26"
            ],
            [
             1,
             "#f0f921"
            ]
           ]
          },
          "colorway": [
           "#636efa",
           "#EF553B",
           "#00cc96",
           "#ab63fa",
           "#FFA15A",
           "#19d3f3",
           "#FF6692",
           "#B6E880",
           "#FF97FF",
           "#FECB52"
          ],
          "font": {
           "color": "#2a3f5f"
          },
          "geo": {
           "bgcolor": "white",
           "lakecolor": "white",
           "landcolor": "#E5ECF6",
           "showlakes": true,
           "showland": true,
           "subunitcolor": "white"
          },
          "hoverlabel": {
           "align": "left"
          },
          "hovermode": "closest",
          "mapbox": {
           "style": "light"
          },
          "paper_bgcolor": "white",
          "plot_bgcolor": "#E5ECF6",
          "polar": {
           "angularaxis": {
            "gridcolor": "white",
            "linecolor": "white",
            "ticks": ""
           },
           "bgcolor": "#E5ECF6",
           "radialaxis": {
            "gridcolor": "white",
            "linecolor": "white",
            "ticks": ""
           }
          },
          "scene": {
           "xaxis": {
            "backgroundcolor": "#E5ECF6",
            "gridcolor": "white",
            "gridwidth": 2,
            "linecolor": "white",
            "showbackground": true,
            "ticks": "",
            "zerolinecolor": "white"
           },
           "yaxis": {
            "backgroundcolor": "#E5ECF6",
            "gridcolor": "white",
            "gridwidth": 2,
            "linecolor": "white",
            "showbackground": true,
            "ticks": "",
            "zerolinecolor": "white"
           },
           "zaxis": {
            "backgroundcolor": "#E5ECF6",
            "gridcolor": "white",
            "gridwidth": 2,
            "linecolor": "white",
            "showbackground": true,
            "ticks": "",
            "zerolinecolor": "white"
           }
          },
          "shapedefaults": {
           "line": {
            "color": "#2a3f5f"
           }
          },
          "ternary": {
           "aaxis": {
            "gridcolor": "white",
            "linecolor": "white",
            "ticks": ""
           },
           "baxis": {
            "gridcolor": "white",
            "linecolor": "white",
            "ticks": ""
           },
           "bgcolor": "#E5ECF6",
           "caxis": {
            "gridcolor": "white",
            "linecolor": "white",
            "ticks": ""
           }
          },
          "title": {
           "x": 0.05
          },
          "xaxis": {
           "automargin": true,
           "gridcolor": "white",
           "linecolor": "white",
           "ticks": "",
           "title": {
            "standoff": 15
           },
           "zerolinecolor": "white",
           "zerolinewidth": 2
          },
          "yaxis": {
           "automargin": true,
           "gridcolor": "white",
           "linecolor": "white",
           "ticks": "",
           "title": {
            "standoff": 15
           },
           "zerolinecolor": "white",
           "zerolinewidth": 2
          }
         }
        },
        "width": 600
       }
      }
     },
     "metadata": {},
     "output_type": "display_data"
    }
   ],
   "source": [
    "category = df.groupby('vertical')[['vertical', 'amount']].head(5)\n",
    "category.set_index('vertical', inplace = True)\n",
    "fig6 = px.pie(\n",
    "    labels=category.head().values,\n",
    "    names= category.head().index,\n",
    "    height=400,\n",
    "    width=600,\n",
    "    color_discrete_sequence=px.colors.sequential.dense_r,\n",
    "    hole=0.4)\n",
    "fig6"
   ]
  },
  {
   "cell_type": "markdown",
   "id": "f00580d6",
   "metadata": {},
   "source": [
    "##### 4. Top 5 Startups by _year_"
   ]
  },
  {
   "cell_type": "code",
   "execution_count": 32,
   "id": "09ed332e",
   "metadata": {},
   "outputs": [
    {
     "data": {
      "text/html": [
       "<div>\n",
       "<style scoped>\n",
       "    .dataframe tbody tr th:only-of-type {\n",
       "        vertical-align: middle;\n",
       "    }\n",
       "\n",
       "    .dataframe tbody tr th {\n",
       "        vertical-align: top;\n",
       "    }\n",
       "\n",
       "    .dataframe thead th {\n",
       "        text-align: right;\n",
       "    }\n",
       "</style>\n",
       "<table border=\"1\" class=\"dataframe\">\n",
       "  <thead>\n",
       "    <tr style=\"text-align: right;\">\n",
       "      <th></th>\n",
       "      <th>month</th>\n",
       "      <th>amount</th>\n",
       "    </tr>\n",
       "    <tr>\n",
       "      <th>startup</th>\n",
       "      <th></th>\n",
       "      <th></th>\n",
       "    </tr>\n",
       "  </thead>\n",
       "  <tbody>\n",
       "    <tr>\n",
       "      <th>BYJU’S</th>\n",
       "      <td>September</td>\n",
       "      <td>0.000000</td>\n",
       "    </tr>\n",
       "    <tr>\n",
       "      <th>Fashor</th>\n",
       "      <td>January</td>\n",
       "      <td>14.970600</td>\n",
       "    </tr>\n",
       "    <tr>\n",
       "      <th>Mamaearth</th>\n",
       "      <td>September</td>\n",
       "      <td>152.690639</td>\n",
       "    </tr>\n",
       "    <tr>\n",
       "      <th>Pando</th>\n",
       "      <td>January</td>\n",
       "      <td>74.853000</td>\n",
       "    </tr>\n",
       "    <tr>\n",
       "      <th>Shuttl</th>\n",
       "      <td>January</td>\n",
       "      <td>66.938493</td>\n",
       "    </tr>\n",
       "    <tr>\n",
       "      <th>Wealth Bucket</th>\n",
       "      <td>January</td>\n",
       "      <td>24.951000</td>\n",
       "    </tr>\n",
       "    <tr>\n",
       "      <th>Zomato</th>\n",
       "      <td>October</td>\n",
       "      <td>1247.550000</td>\n",
       "    </tr>\n",
       "  </tbody>\n",
       "</table>\n",
       "</div>"
      ],
      "text/plain": [
       "                   month       amount\n",
       "startup                              \n",
       "BYJU’S         September     0.000000\n",
       "Fashor           January    14.970600\n",
       "Mamaearth      September   152.690639\n",
       "Pando            January    74.853000\n",
       "Shuttl           January    66.938493\n",
       "Wealth Bucket    January    24.951000\n",
       "Zomato           October  1247.550000"
      ]
     },
     "execution_count": 32,
     "metadata": {},
     "output_type": "execute_result"
    }
   ],
   "source": [
    "top5 = df.groupby(['startup', 'year', 'month'])['amount'].sum().reset_index()\n",
    "top5.set_index('startup', inplace=True)\n",
    "top5.query(\"year == 2020\")[['month', 'amount']]"
   ]
  },
  {
   "cell_type": "markdown",
   "id": "9a344516",
   "metadata": {},
   "source": [
    "#### 5. Top 5 Investors"
   ]
  },
  {
   "cell_type": "code",
   "execution_count": 33,
   "id": "0b04529e",
   "metadata": {},
   "outputs": [
    {
     "data": {
      "text/html": [
       "<div>\n",
       "<style scoped>\n",
       "    .dataframe tbody tr th:only-of-type {\n",
       "        vertical-align: middle;\n",
       "    }\n",
       "\n",
       "    .dataframe tbody tr th {\n",
       "        vertical-align: top;\n",
       "    }\n",
       "\n",
       "    .dataframe thead th {\n",
       "        text-align: right;\n",
       "    }\n",
       "</style>\n",
       "<table border=\"1\" class=\"dataframe\">\n",
       "  <thead>\n",
       "    <tr style=\"text-align: right;\">\n",
       "      <th></th>\n",
       "      <th>investors</th>\n",
       "      <th>year</th>\n",
       "      <th>month</th>\n",
       "      <th>amount</th>\n",
       "    </tr>\n",
       "  </thead>\n",
       "  <tbody>\n",
       "    <tr>\n",
       "      <th>819</th>\n",
       "      <td>Kedaraa Capital, Ontario Teachers</td>\n",
       "      <td>2017</td>\n",
       "      <td>December</td>\n",
       "      <td>162.1815</td>\n",
       "    </tr>\n",
       "  </tbody>\n",
       "</table>\n",
       "</div>"
      ],
      "text/plain": [
       "                             investors  year     month    amount\n",
       "819  Kedaraa Capital, Ontario Teachers  2017  December  162.1815"
      ]
     },
     "execution_count": 33,
     "metadata": {},
     "output_type": "execute_result"
    }
   ],
   "source": [
    "top5 = df.groupby(['investors', 'year', 'month'])['amount'].sum().reset_index()\n",
    "\n",
    "top5[top5.investors.str.contains('Kedaraa')]"
   ]
  },
  {
   "cell_type": "markdown",
   "id": "18bd1de4",
   "metadata": {
    "cell_id": "d9039295655f41a7b1328de0bbd6e695",
    "deepnote_app_coordinates": {
     "h": 5,
     "w": 12,
     "x": 0,
     "y": 0
    },
    "deepnote_cell_type": "markdown",
    "papermill": {
     "duration": 0.008941,
     "end_time": "2023-11-05T08:03:07.169858",
     "exception": false,
     "start_time": "2023-11-05T08:03:07.160917",
     "status": "completed"
    },
    "tags": []
   },
   "source": [
    "### ***Cleaned CSV***"
   ]
  },
  {
   "cell_type": "code",
   "execution_count": 34,
   "id": "a8541fb2",
   "metadata": {
    "cell_id": "39dcfe8929f548e58f3a2292e821f515",
    "deepnote_app_coordinates": {
     "h": 5,
     "w": 12,
     "x": 0,
     "y": 0
    },
    "deepnote_cell_type": "code",
    "execution": {
     "iopub.execute_input": "2023-11-05T08:03:07.190767Z",
     "iopub.status.busy": "2023-11-05T08:03:07.190145Z",
     "iopub.status.idle": "2023-11-05T08:03:07.216100Z",
     "shell.execute_reply": "2023-11-05T08:03:07.215133Z"
    },
    "papermill": {
     "duration": 0.039884,
     "end_time": "2023-11-05T08:03:07.218860",
     "exception": false,
     "start_time": "2023-11-05T08:03:07.178976",
     "status": "completed"
    },
    "tags": []
   },
   "outputs": [],
   "source": [
    "df.to_csv('resources/startup_cleaned.csv',index=False)  "
   ]
  }
 ],
 "metadata": {
  "kernelspec": {
   "display_name": "Python 3",
   "language": "python",
   "name": "python3"
  },
  "language_info": {
   "codemirror_mode": {
    "name": "ipython",
    "version": 3
   },
   "file_extension": ".py",
   "mimetype": "text/x-python",
   "name": "python",
   "nbconvert_exporter": "python",
   "pygments_lexer": "ipython3",
   "version": "3.11.7"
  },
  "papermill": {
   "default_parameters": {},
   "duration": 4.72485,
   "end_time": "2023-11-05T08:03:07.647794",
   "environment_variables": {},
   "exception": null,
   "input_path": "__notebook__.ipynb",
   "output_path": "__notebook__.ipynb",
   "parameters": {},
   "start_time": "2023-11-05T08:03:02.922944",
   "version": "2.4.0"
  }
 },
 "nbformat": 4,
 "nbformat_minor": 5
}
